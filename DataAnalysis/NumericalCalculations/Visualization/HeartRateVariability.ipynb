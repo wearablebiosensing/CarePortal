{
 "cells": [
  {
   "cell_type": "code",
   "execution_count": 1,
   "metadata": {},
   "outputs": [],
   "source": [
    "from twilio.rest import Client\n",
    "import pandas as pd \n",
    "import numpy as np \n",
    "import plotly.express as px\n",
    "import psutil # CPU info\n",
    "import plotly.express as px\n",
    "import multiprocessing as mp\n",
    "import plotly.graph_objects as go\n",
    "import time \n",
    "import glob\n",
    "import shutil, os\n",
    "import json\n",
    "from re import search\n",
    "from plotly.subplots import make_subplots\n",
    "import plotly.figure_factory as ff\n",
    "from twilio.rest import Client\n",
    "from datetime import datetime\n",
    "import sys\n",
    "from distutils.dir_util import copy_tree\n",
    "import plotly\n"
   ]
  },
  {
   "cell_type": "code",
   "execution_count": 2,
   "metadata": {},
   "outputs": [],
   "source": [
    "# Add a column to df seperating date and time 1900-01-01 TimeStamp = 11:39:09.625\n",
    "def split_date_time(hr):\n",
    "    ts_only = []\n",
    "    for i in hr[\"Time\"]:\n",
    "        ts_only.append(i[11:])\n",
    "    hr[\"TimeStamp\"] = ts_only\n",
    "    \n",
    "# Add a column to the dataframe containing 12 hour timestamp.\n",
    "def convert_ts_human(hr):\n",
    "    # Convert all timetamps to 12 hour format\n",
    "    conveted_human_list = []\n",
    "    for i in hr[\"Time\"]:\n",
    "        d = datetime.strptime(i.split(\" \")[1], \"%H:%M:%S.%f\")\n",
    "        conveted_human_list.append(d.strftime(\"%I:%M:%S %p\")) #12 HR FORMAT.\n",
    "# To filter by Hour and Date&Time. Give it a dataset for one day only apply that filter before feeding.\n",
    "\n",
    "def unique_time_stamps(df):\n",
    "    time_stamp_list = [] # get the unique time stamps int he paricular df.\n",
    "    for idx,val in enumerate(df[\"Time\"]):\n",
    "        #print(\"TS: \",val,val[11:13])\n",
    "        time_stamp_list.append(val[11:13])\n",
    "    return np.unique(np.array(time_stamp_list))"
   ]
  },
  {
   "cell_type": "code",
   "execution_count": null,
   "metadata": {},
   "outputs": [],
   "source": []
  },
  {
   "cell_type": "code",
   "execution_count": null,
   "metadata": {},
   "outputs": [],
   "source": []
  },
  {
   "cell_type": "code",
   "execution_count": null,
   "metadata": {},
   "outputs": [],
   "source": []
  },
  {
   "cell_type": "code",
   "execution_count": null,
   "metadata": {},
   "outputs": [],
   "source": []
  },
  {
   "cell_type": "code",
   "execution_count": null,
   "metadata": {},
   "outputs": [],
   "source": []
  },
  {
   "cell_type": "code",
   "execution_count": null,
   "metadata": {},
   "outputs": [],
   "source": []
  },
  {
   "cell_type": "code",
   "execution_count": null,
   "metadata": {},
   "outputs": [],
   "source": []
  },
  {
   "cell_type": "code",
   "execution_count": null,
   "metadata": {},
   "outputs": [],
   "source": []
  },
  {
   "cell_type": "code",
   "execution_count": null,
   "metadata": {},
   "outputs": [],
   "source": []
  },
  {
   "cell_type": "code",
   "execution_count": null,
   "metadata": {},
   "outputs": [],
   "source": []
  },
  {
   "cell_type": "code",
   "execution_count": null,
   "metadata": {},
   "outputs": [],
   "source": []
  },
  {
   "cell_type": "code",
   "execution_count": null,
   "metadata": {},
   "outputs": [],
   "source": []
  },
  {
   "cell_type": "code",
   "execution_count": null,
   "metadata": {},
   "outputs": [],
   "source": []
  }
 ],
 "metadata": {
  "kernelspec": {
   "display_name": "Python 3",
   "language": "python",
   "name": "python3"
  },
  "language_info": {
   "codemirror_mode": {
    "name": "ipython",
    "version": 3
   },
   "file_extension": ".py",
   "mimetype": "text/x-python",
   "name": "python",
   "nbconvert_exporter": "python",
   "pygments_lexer": "ipython3",
   "version": "3.7.9"
  }
 },
 "nbformat": 4,
 "nbformat_minor": 4
}
