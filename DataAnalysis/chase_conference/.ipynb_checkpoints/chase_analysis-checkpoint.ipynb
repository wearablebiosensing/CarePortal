{
 "cells": [
  {
   "cell_type": "code",
   "execution_count": 43,
   "metadata": {},
   "outputs": [],
   "source": [
    "import os\n",
    "import json\n",
    "from typing import Dict\n",
    "import plotly\n",
    "import pandas as pd\n",
    "import plotly.express as px\n",
    "import plotly.graph_objects as go\n",
    "from plotly.subplots import make_subplots\n",
    "import time\n",
    "from pydrive.auth import GoogleAuth\n",
    "from pydrive.drive import GoogleDrive\n",
    "from googleapiclient.http import MediaFileUpload\n",
    "import time\n",
    "from urllib.request import urlopen\n",
    "import io\n",
    "import requests\n"
   ]
  },
  {
   "cell_type": "code",
   "execution_count": 79,
   "metadata": {},
   "outputs": [],
   "source": [
    "num_days_hr = \"/Users/shehjarsadhu/Desktop/UniversityOfRhodeIsland/Graduate/WBL/My_Thesis/chase_conference/CarePortal_HR.csv\"\n"
   ]
  },
  {
   "cell_type": "code",
   "execution_count": 80,
   "metadata": {},
   "outputs": [],
   "source": [
    "df = pd.read_csv(num_days_hr)"
   ]
  },
  {
   "cell_type": "code",
   "execution_count": 81,
   "metadata": {},
   "outputs": [
    {
     "data": {
      "text/plain": [
       "(116, 2)"
      ]
     },
     "execution_count": 81,
     "metadata": {},
     "output_type": "execute_result"
    }
   ],
   "source": [
    "df.shape"
   ]
  },
  {
   "cell_type": "markdown",
   "metadata": {},
   "source": [
    "# Participant Adherence"
   ]
  },
  {
   "cell_type": "code",
   "execution_count": 193,
   "metadata": {},
   "outputs": [],
   "source": [
    "\n",
    "above_10_DAYS = df[df[\"N_Days_Hr\"] >= 10]"
   ]
  },
  {
   "cell_type": "code",
   "execution_count": 194,
   "metadata": {},
   "outputs": [
    {
     "data": {
      "text/plain": [
       "(58, 2)"
      ]
     },
     "execution_count": 194,
     "metadata": {},
     "output_type": "execute_result"
    }
   ],
   "source": [
    "above_10_DAYS.shape"
   ]
  },
  {
   "cell_type": "code",
   "execution_count": 195,
   "metadata": {},
   "outputs": [],
   "source": [
    "pid_pist_above_10_days = above_10_DAYS[\"PatientID_HR\"].tolist()\n",
    "    "
   ]
  },
  {
   "cell_type": "code",
   "execution_count": 196,
   "metadata": {},
   "outputs": [],
   "source": [
    "#above_10_DAYS[\"PatientID_HR\"].to_csv(\"/Users/shehjarsadhu/Desktop/UniversityOfRhodeIsland/Graduate/WBL/My_Thesis/chase_conference/participant_list_above_10days.csv\")"
   ]
  },
  {
   "cell_type": "code",
   "execution_count": 197,
   "metadata": {},
   "outputs": [],
   "source": [
    "large_rockwell_template = dict(\n",
    "    layout=go.Layout(title_font=dict(family=\"Rockwell\")))"
   ]
  },
  {
   "cell_type": "code",
   "execution_count": 198,
   "metadata": {},
   "outputs": [],
   "source": [
    "fig = make_subplots(rows=1, cols=1,\n",
    "        subplot_titles=(\"Total Number of Days for all Patients In The Study (N=11)\"))\n",
    "\n"
   ]
  },
  {
   "cell_type": "code",
   "execution_count": 199,
   "metadata": {},
   "outputs": [],
   "source": [
    "df_sorted = df.sort_values(\"N_Days_Hr\",ascending=False)\n",
    "df_pid_str = df_sorted[\"PatientID_HR\"].map(str)\n"
   ]
  },
  {
   "cell_type": "code",
   "execution_count": 200,
   "metadata": {},
   "outputs": [
    {
     "data": {
      "application/vnd.plotly.v1+json": {
       "config": {
        "plotlyServerURL": "https://plot.ly"
       },
       "data": [
        {
         "alignmentgroup": "True",
         "hovertemplate": "x=%{x}<br>y=%{y}<extra></extra>",
         "legendgroup": "",
         "marker": {
          "color": "rgb(24, 128, 139)",
          "line": {
           "color": "rgb(8,48,107)"
          },
          "pattern": {
           "shape": ""
          }
         },
         "name": "",
         "offsetgroup": "",
         "orientation": "v",
         "showlegend": false,
         "textposition": "auto",
         "type": "bar",
         "x": [
          "31",
          "26",
          "807",
          "58",
          "88",
          "24",
          "22",
          "40",
          "97",
          "419",
          "36",
          "75",
          "25",
          "584",
          "52",
          "118",
          "83",
          "27",
          "727",
          "136",
          "148",
          "113",
          "56",
          "72",
          "135",
          "310",
          "128",
          "90",
          "53",
          "51",
          "103",
          "33",
          "30",
          "29",
          "80",
          "44",
          "139",
          "104",
          "74",
          "78",
          "134",
          "131",
          "145",
          "106",
          "111",
          "23",
          "28",
          "54",
          "68",
          "34",
          "50",
          "35",
          "146",
          "38",
          "71",
          "129",
          "45",
          "42",
          "137",
          "43",
          "96",
          "918",
          "87",
          "784",
          "341",
          "107",
          "21",
          "59",
          "37",
          "186",
          "443",
          "909",
          "566",
          "98",
          "105",
          "84",
          "95",
          "120",
          "55",
          "81",
          "82",
          "149",
          "91",
          "941",
          "127",
          "800",
          "100",
          "457",
          "46",
          "110",
          "121",
          "693",
          "114",
          "140",
          "109",
          "93",
          "125",
          "57",
          "102",
          "63",
          "156",
          "150",
          "49",
          "158",
          "85",
          "142",
          "66",
          "108",
          "236",
          "64",
          "115",
          "89",
          "152",
          "130",
          "143",
          "151"
         ],
         "xaxis": "x",
         "y": [
          32,
          22,
          22,
          22,
          21,
          20,
          20,
          19,
          18,
          18,
          17,
          17,
          17,
          16,
          16,
          16,
          16,
          16,
          15,
          15,
          15,
          15,
          15,
          14,
          14,
          14,
          14,
          14,
          14,
          14,
          14,
          14,
          14,
          14,
          14,
          13,
          13,
          13,
          13,
          13,
          12,
          12,
          12,
          12,
          12,
          12,
          12,
          12,
          12,
          11,
          11,
          11,
          11,
          11,
          10,
          10,
          10,
          10,
          9,
          9,
          9,
          9,
          9,
          9,
          9,
          9,
          8,
          8,
          8,
          7,
          7,
          7,
          7,
          7,
          7,
          7,
          7,
          6,
          6,
          6,
          6,
          6,
          6,
          6,
          6,
          5,
          5,
          5,
          5,
          5,
          5,
          5,
          5,
          4,
          4,
          4,
          3,
          3,
          3,
          3,
          3,
          3,
          3,
          2,
          2,
          2,
          2,
          1,
          1,
          1,
          1,
          1,
          1,
          1,
          1,
          1
         ],
         "yaxis": "y"
        }
       ],
       "layout": {
        "barmode": "relative",
        "font": {
         "color": "black",
         "family": "IBM Plex San",
         "size": 20
        },
        "legend": {
         "tracegroupgap": 0
        },
        "margin": {
         "t": 60
        },
        "shapes": [
         {
          "type": "line",
          "x0": 0,
          "x1": 1,
          "xref": "x domain",
          "y0": 10,
          "y1": 10,
          "yref": "y"
         }
        ],
        "template": {
         "data": {
          "bar": [
           {
            "error_x": {
             "color": "#2a3f5f"
            },
            "error_y": {
             "color": "#2a3f5f"
            },
            "marker": {
             "line": {
              "color": "white",
              "width": 0.5
             },
             "pattern": {
              "fillmode": "overlay",
              "size": 10,
              "solidity": 0.2
             }
            },
            "type": "bar"
           }
          ],
          "barpolar": [
           {
            "marker": {
             "line": {
              "color": "white",
              "width": 0.5
             },
             "pattern": {
              "fillmode": "overlay",
              "size": 10,
              "solidity": 0.2
             }
            },
            "type": "barpolar"
           }
          ],
          "carpet": [
           {
            "aaxis": {
             "endlinecolor": "#2a3f5f",
             "gridcolor": "#C8D4E3",
             "linecolor": "#C8D4E3",
             "minorgridcolor": "#C8D4E3",
             "startlinecolor": "#2a3f5f"
            },
            "baxis": {
             "endlinecolor": "#2a3f5f",
             "gridcolor": "#C8D4E3",
             "linecolor": "#C8D4E3",
             "minorgridcolor": "#C8D4E3",
             "startlinecolor": "#2a3f5f"
            },
            "type": "carpet"
           }
          ],
          "choropleth": [
           {
            "colorbar": {
             "outlinewidth": 0,
             "ticks": ""
            },
            "type": "choropleth"
           }
          ],
          "contour": [
           {
            "colorbar": {
             "outlinewidth": 0,
             "ticks": ""
            },
            "colorscale": [
             [
              0,
              "#0d0887"
             ],
             [
              0.1111111111111111,
              "#46039f"
             ],
             [
              0.2222222222222222,
              "#7201a8"
             ],
             [
              0.3333333333333333,
              "#9c179e"
             ],
             [
              0.4444444444444444,
              "#bd3786"
             ],
             [
              0.5555555555555556,
              "#d8576b"
             ],
             [
              0.6666666666666666,
              "#ed7953"
             ],
             [
              0.7777777777777778,
              "#fb9f3a"
             ],
             [
              0.8888888888888888,
              "#fdca26"
             ],
             [
              1,
              "#f0f921"
             ]
            ],
            "type": "contour"
           }
          ],
          "contourcarpet": [
           {
            "colorbar": {
             "outlinewidth": 0,
             "ticks": ""
            },
            "type": "contourcarpet"
           }
          ],
          "heatmap": [
           {
            "colorbar": {
             "outlinewidth": 0,
             "ticks": ""
            },
            "colorscale": [
             [
              0,
              "#0d0887"
             ],
             [
              0.1111111111111111,
              "#46039f"
             ],
             [
              0.2222222222222222,
              "#7201a8"
             ],
             [
              0.3333333333333333,
              "#9c179e"
             ],
             [
              0.4444444444444444,
              "#bd3786"
             ],
             [
              0.5555555555555556,
              "#d8576b"
             ],
             [
              0.6666666666666666,
              "#ed7953"
             ],
             [
              0.7777777777777778,
              "#fb9f3a"
             ],
             [
              0.8888888888888888,
              "#fdca26"
             ],
             [
              1,
              "#f0f921"
             ]
            ],
            "type": "heatmap"
           }
          ],
          "heatmapgl": [
           {
            "colorbar": {
             "outlinewidth": 0,
             "ticks": ""
            },
            "colorscale": [
             [
              0,
              "#0d0887"
             ],
             [
              0.1111111111111111,
              "#46039f"
             ],
             [
              0.2222222222222222,
              "#7201a8"
             ],
             [
              0.3333333333333333,
              "#9c179e"
             ],
             [
              0.4444444444444444,
              "#bd3786"
             ],
             [
              0.5555555555555556,
              "#d8576b"
             ],
             [
              0.6666666666666666,
              "#ed7953"
             ],
             [
              0.7777777777777778,
              "#fb9f3a"
             ],
             [
              0.8888888888888888,
              "#fdca26"
             ],
             [
              1,
              "#f0f921"
             ]
            ],
            "type": "heatmapgl"
           }
          ],
          "histogram": [
           {
            "marker": {
             "pattern": {
              "fillmode": "overlay",
              "size": 10,
              "solidity": 0.2
             }
            },
            "type": "histogram"
           }
          ],
          "histogram2d": [
           {
            "colorbar": {
             "outlinewidth": 0,
             "ticks": ""
            },
            "colorscale": [
             [
              0,
              "#0d0887"
             ],
             [
              0.1111111111111111,
              "#46039f"
             ],
             [
              0.2222222222222222,
              "#7201a8"
             ],
             [
              0.3333333333333333,
              "#9c179e"
             ],
             [
              0.4444444444444444,
              "#bd3786"
             ],
             [
              0.5555555555555556,
              "#d8576b"
             ],
             [
              0.6666666666666666,
              "#ed7953"
             ],
             [
              0.7777777777777778,
              "#fb9f3a"
             ],
             [
              0.8888888888888888,
              "#fdca26"
             ],
             [
              1,
              "#f0f921"
             ]
            ],
            "type": "histogram2d"
           }
          ],
          "histogram2dcontour": [
           {
            "colorbar": {
             "outlinewidth": 0,
             "ticks": ""
            },
            "colorscale": [
             [
              0,
              "#0d0887"
             ],
             [
              0.1111111111111111,
              "#46039f"
             ],
             [
              0.2222222222222222,
              "#7201a8"
             ],
             [
              0.3333333333333333,
              "#9c179e"
             ],
             [
              0.4444444444444444,
              "#bd3786"
             ],
             [
              0.5555555555555556,
              "#d8576b"
             ],
             [
              0.6666666666666666,
              "#ed7953"
             ],
             [
              0.7777777777777778,
              "#fb9f3a"
             ],
             [
              0.8888888888888888,
              "#fdca26"
             ],
             [
              1,
              "#f0f921"
             ]
            ],
            "type": "histogram2dcontour"
           }
          ],
          "mesh3d": [
           {
            "colorbar": {
             "outlinewidth": 0,
             "ticks": ""
            },
            "type": "mesh3d"
           }
          ],
          "parcoords": [
           {
            "line": {
             "colorbar": {
              "outlinewidth": 0,
              "ticks": ""
             }
            },
            "type": "parcoords"
           }
          ],
          "pie": [
           {
            "automargin": true,
            "type": "pie"
           }
          ],
          "scatter": [
           {
            "fillpattern": {
             "fillmode": "overlay",
             "size": 10,
             "solidity": 0.2
            },
            "type": "scatter"
           }
          ],
          "scatter3d": [
           {
            "line": {
             "colorbar": {
              "outlinewidth": 0,
              "ticks": ""
             }
            },
            "marker": {
             "colorbar": {
              "outlinewidth": 0,
              "ticks": ""
             }
            },
            "type": "scatter3d"
           }
          ],
          "scattercarpet": [
           {
            "marker": {
             "colorbar": {
              "outlinewidth": 0,
              "ticks": ""
             }
            },
            "type": "scattercarpet"
           }
          ],
          "scattergeo": [
           {
            "marker": {
             "colorbar": {
              "outlinewidth": 0,
              "ticks": ""
             }
            },
            "type": "scattergeo"
           }
          ],
          "scattergl": [
           {
            "marker": {
             "colorbar": {
              "outlinewidth": 0,
              "ticks": ""
             }
            },
            "type": "scattergl"
           }
          ],
          "scattermapbox": [
           {
            "marker": {
             "colorbar": {
              "outlinewidth": 0,
              "ticks": ""
             }
            },
            "type": "scattermapbox"
           }
          ],
          "scatterpolar": [
           {
            "marker": {
             "colorbar": {
              "outlinewidth": 0,
              "ticks": ""
             }
            },
            "type": "scatterpolar"
           }
          ],
          "scatterpolargl": [
           {
            "marker": {
             "colorbar": {
              "outlinewidth": 0,
              "ticks": ""
             }
            },
            "type": "scatterpolargl"
           }
          ],
          "scatterternary": [
           {
            "marker": {
             "colorbar": {
              "outlinewidth": 0,
              "ticks": ""
             }
            },
            "type": "scatterternary"
           }
          ],
          "surface": [
           {
            "colorbar": {
             "outlinewidth": 0,
             "ticks": ""
            },
            "colorscale": [
             [
              0,
              "#0d0887"
             ],
             [
              0.1111111111111111,
              "#46039f"
             ],
             [
              0.2222222222222222,
              "#7201a8"
             ],
             [
              0.3333333333333333,
              "#9c179e"
             ],
             [
              0.4444444444444444,
              "#bd3786"
             ],
             [
              0.5555555555555556,
              "#d8576b"
             ],
             [
              0.6666666666666666,
              "#ed7953"
             ],
             [
              0.7777777777777778,
              "#fb9f3a"
             ],
             [
              0.8888888888888888,
              "#fdca26"
             ],
             [
              1,
              "#f0f921"
             ]
            ],
            "type": "surface"
           }
          ],
          "table": [
           {
            "cells": {
             "fill": {
              "color": "#EBF0F8"
             },
             "line": {
              "color": "white"
             }
            },
            "header": {
             "fill": {
              "color": "#C8D4E3"
             },
             "line": {
              "color": "white"
             }
            },
            "type": "table"
           }
          ]
         },
         "layout": {
          "annotationdefaults": {
           "arrowcolor": "#2a3f5f",
           "arrowhead": 0,
           "arrowwidth": 1
          },
          "autotypenumbers": "strict",
          "coloraxis": {
           "colorbar": {
            "outlinewidth": 0,
            "ticks": ""
           }
          },
          "colorscale": {
           "diverging": [
            [
             0,
             "#8e0152"
            ],
            [
             0.1,
             "#c51b7d"
            ],
            [
             0.2,
             "#de77ae"
            ],
            [
             0.3,
             "#f1b6da"
            ],
            [
             0.4,
             "#fde0ef"
            ],
            [
             0.5,
             "#f7f7f7"
            ],
            [
             0.6,
             "#e6f5d0"
            ],
            [
             0.7,
             "#b8e186"
            ],
            [
             0.8,
             "#7fbc41"
            ],
            [
             0.9,
             "#4d9221"
            ],
            [
             1,
             "#276419"
            ]
           ],
           "sequential": [
            [
             0,
             "#0d0887"
            ],
            [
             0.1111111111111111,
             "#46039f"
            ],
            [
             0.2222222222222222,
             "#7201a8"
            ],
            [
             0.3333333333333333,
             "#9c179e"
            ],
            [
             0.4444444444444444,
             "#bd3786"
            ],
            [
             0.5555555555555556,
             "#d8576b"
            ],
            [
             0.6666666666666666,
             "#ed7953"
            ],
            [
             0.7777777777777778,
             "#fb9f3a"
            ],
            [
             0.8888888888888888,
             "#fdca26"
            ],
            [
             1,
             "#f0f921"
            ]
           ],
           "sequentialminus": [
            [
             0,
             "#0d0887"
            ],
            [
             0.1111111111111111,
             "#46039f"
            ],
            [
             0.2222222222222222,
             "#7201a8"
            ],
            [
             0.3333333333333333,
             "#9c179e"
            ],
            [
             0.4444444444444444,
             "#bd3786"
            ],
            [
             0.5555555555555556,
             "#d8576b"
            ],
            [
             0.6666666666666666,
             "#ed7953"
            ],
            [
             0.7777777777777778,
             "#fb9f3a"
            ],
            [
             0.8888888888888888,
             "#fdca26"
            ],
            [
             1,
             "#f0f921"
            ]
           ]
          },
          "colorway": [
           "#636efa",
           "#EF553B",
           "#00cc96",
           "#ab63fa",
           "#FFA15A",
           "#19d3f3",
           "#FF6692",
           "#B6E880",
           "#FF97FF",
           "#FECB52"
          ],
          "font": {
           "color": "#2a3f5f"
          },
          "geo": {
           "bgcolor": "white",
           "lakecolor": "white",
           "landcolor": "white",
           "showlakes": true,
           "showland": true,
           "subunitcolor": "#C8D4E3"
          },
          "hoverlabel": {
           "align": "left"
          },
          "hovermode": "closest",
          "mapbox": {
           "style": "light"
          },
          "paper_bgcolor": "white",
          "plot_bgcolor": "white",
          "polar": {
           "angularaxis": {
            "gridcolor": "#EBF0F8",
            "linecolor": "#EBF0F8",
            "ticks": ""
           },
           "bgcolor": "white",
           "radialaxis": {
            "gridcolor": "#EBF0F8",
            "linecolor": "#EBF0F8",
            "ticks": ""
           }
          },
          "scene": {
           "xaxis": {
            "backgroundcolor": "white",
            "gridcolor": "#DFE8F3",
            "gridwidth": 2,
            "linecolor": "#EBF0F8",
            "showbackground": true,
            "ticks": "",
            "zerolinecolor": "#EBF0F8"
           },
           "yaxis": {
            "backgroundcolor": "white",
            "gridcolor": "#DFE8F3",
            "gridwidth": 2,
            "linecolor": "#EBF0F8",
            "showbackground": true,
            "ticks": "",
            "zerolinecolor": "#EBF0F8"
           },
           "zaxis": {
            "backgroundcolor": "white",
            "gridcolor": "#DFE8F3",
            "gridwidth": 2,
            "linecolor": "#EBF0F8",
            "showbackground": true,
            "ticks": "",
            "zerolinecolor": "#EBF0F8"
           }
          },
          "shapedefaults": {
           "line": {
            "color": "#2a3f5f"
           }
          },
          "ternary": {
           "aaxis": {
            "gridcolor": "#DFE8F3",
            "linecolor": "#A2B1C6",
            "ticks": ""
           },
           "baxis": {
            "gridcolor": "#DFE8F3",
            "linecolor": "#A2B1C6",
            "ticks": ""
           },
           "bgcolor": "white",
           "caxis": {
            "gridcolor": "#DFE8F3",
            "linecolor": "#A2B1C6",
            "ticks": ""
           }
          },
          "title": {
           "x": 0.05
          },
          "xaxis": {
           "automargin": true,
           "gridcolor": "#EBF0F8",
           "linecolor": "#EBF0F8",
           "ticks": "",
           "title": {
            "standoff": 15
           },
           "zerolinecolor": "#EBF0F8",
           "zerolinewidth": 2
          },
          "yaxis": {
           "automargin": true,
           "gridcolor": "#EBF0F8",
           "linecolor": "#EBF0F8",
           "ticks": "",
           "title": {
            "standoff": 15
           },
           "zerolinecolor": "#EBF0F8",
           "zerolinewidth": 2
          }
         }
        },
        "title": {
         "text": "Participant Adherence",
         "x": 0.5,
         "xanchor": "center",
         "y": 0.9,
         "yanchor": "top"
        },
        "xaxis": {
         "anchor": "y",
         "domain": [
          0,
          1
         ],
         "title": {
          "font": {
           "family": "IBM Plex San"
          },
          "text": "Participant ID"
         }
        },
        "yaxis": {
         "anchor": "x",
         "domain": [
          0,
          1
         ],
         "title": {
          "font": {
           "family": "IBM Plex San"
          },
          "text": "Number of Days Completed"
         }
        }
       }
      },
      "text/html": [
       "<div>                            <div id=\"4c7bc5c8-5d7d-49f1-8f63-40a73069dca4\" class=\"plotly-graph-div\" style=\"height:525px; width:100%;\"></div>            <script type=\"text/javascript\">                require([\"plotly\"], function(Plotly) {                    window.PLOTLYENV=window.PLOTLYENV || {};                                    if (document.getElementById(\"4c7bc5c8-5d7d-49f1-8f63-40a73069dca4\")) {                    Plotly.newPlot(                        \"4c7bc5c8-5d7d-49f1-8f63-40a73069dca4\",                        [{\"alignmentgroup\":\"True\",\"hovertemplate\":\"x=%{x}<br>y=%{y}<extra></extra>\",\"legendgroup\":\"\",\"marker\":{\"color\":\"rgb(24, 128, 139)\",\"pattern\":{\"shape\":\"\"},\"line\":{\"color\":\"rgb(8,48,107)\"}},\"name\":\"\",\"offsetgroup\":\"\",\"orientation\":\"v\",\"showlegend\":false,\"textposition\":\"auto\",\"x\":[\"31\",\"26\",\"807\",\"58\",\"88\",\"24\",\"22\",\"40\",\"97\",\"419\",\"36\",\"75\",\"25\",\"584\",\"52\",\"118\",\"83\",\"27\",\"727\",\"136\",\"148\",\"113\",\"56\",\"72\",\"135\",\"310\",\"128\",\"90\",\"53\",\"51\",\"103\",\"33\",\"30\",\"29\",\"80\",\"44\",\"139\",\"104\",\"74\",\"78\",\"134\",\"131\",\"145\",\"106\",\"111\",\"23\",\"28\",\"54\",\"68\",\"34\",\"50\",\"35\",\"146\",\"38\",\"71\",\"129\",\"45\",\"42\",\"137\",\"43\",\"96\",\"918\",\"87\",\"784\",\"341\",\"107\",\"21\",\"59\",\"37\",\"186\",\"443\",\"909\",\"566\",\"98\",\"105\",\"84\",\"95\",\"120\",\"55\",\"81\",\"82\",\"149\",\"91\",\"941\",\"127\",\"800\",\"100\",\"457\",\"46\",\"110\",\"121\",\"693\",\"114\",\"140\",\"109\",\"93\",\"125\",\"57\",\"102\",\"63\",\"156\",\"150\",\"49\",\"158\",\"85\",\"142\",\"66\",\"108\",\"236\",\"64\",\"115\",\"89\",\"152\",\"130\",\"143\",\"151\"],\"xaxis\":\"x\",\"y\":[32,22,22,22,21,20,20,19,18,18,17,17,17,16,16,16,16,16,15,15,15,15,15,14,14,14,14,14,14,14,14,14,14,14,14,13,13,13,13,13,12,12,12,12,12,12,12,12,12,11,11,11,11,11,10,10,10,10,9,9,9,9,9,9,9,9,8,8,8,7,7,7,7,7,7,7,7,6,6,6,6,6,6,6,6,5,5,5,5,5,5,5,5,4,4,4,3,3,3,3,3,3,3,2,2,2,2,1,1,1,1,1,1,1,1,1],\"yaxis\":\"y\",\"type\":\"bar\"}],                        {\"template\":{\"data\":{\"histogram2dcontour\":[{\"type\":\"histogram2dcontour\",\"colorbar\":{\"outlinewidth\":0,\"ticks\":\"\"},\"colorscale\":[[0.0,\"#0d0887\"],[0.1111111111111111,\"#46039f\"],[0.2222222222222222,\"#7201a8\"],[0.3333333333333333,\"#9c179e\"],[0.4444444444444444,\"#bd3786\"],[0.5555555555555556,\"#d8576b\"],[0.6666666666666666,\"#ed7953\"],[0.7777777777777778,\"#fb9f3a\"],[0.8888888888888888,\"#fdca26\"],[1.0,\"#f0f921\"]]}],\"choropleth\":[{\"type\":\"choropleth\",\"colorbar\":{\"outlinewidth\":0,\"ticks\":\"\"}}],\"histogram2d\":[{\"type\":\"histogram2d\",\"colorbar\":{\"outlinewidth\":0,\"ticks\":\"\"},\"colorscale\":[[0.0,\"#0d0887\"],[0.1111111111111111,\"#46039f\"],[0.2222222222222222,\"#7201a8\"],[0.3333333333333333,\"#9c179e\"],[0.4444444444444444,\"#bd3786\"],[0.5555555555555556,\"#d8576b\"],[0.6666666666666666,\"#ed7953\"],[0.7777777777777778,\"#fb9f3a\"],[0.8888888888888888,\"#fdca26\"],[1.0,\"#f0f921\"]]}],\"heatmap\":[{\"type\":\"heatmap\",\"colorbar\":{\"outlinewidth\":0,\"ticks\":\"\"},\"colorscale\":[[0.0,\"#0d0887\"],[0.1111111111111111,\"#46039f\"],[0.2222222222222222,\"#7201a8\"],[0.3333333333333333,\"#9c179e\"],[0.4444444444444444,\"#bd3786\"],[0.5555555555555556,\"#d8576b\"],[0.6666666666666666,\"#ed7953\"],[0.7777777777777778,\"#fb9f3a\"],[0.8888888888888888,\"#fdca26\"],[1.0,\"#f0f921\"]]}],\"heatmapgl\":[{\"type\":\"heatmapgl\",\"colorbar\":{\"outlinewidth\":0,\"ticks\":\"\"},\"colorscale\":[[0.0,\"#0d0887\"],[0.1111111111111111,\"#46039f\"],[0.2222222222222222,\"#7201a8\"],[0.3333333333333333,\"#9c179e\"],[0.4444444444444444,\"#bd3786\"],[0.5555555555555556,\"#d8576b\"],[0.6666666666666666,\"#ed7953\"],[0.7777777777777778,\"#fb9f3a\"],[0.8888888888888888,\"#fdca26\"],[1.0,\"#f0f921\"]]}],\"contourcarpet\":[{\"type\":\"contourcarpet\",\"colorbar\":{\"outlinewidth\":0,\"ticks\":\"\"}}],\"contour\":[{\"type\":\"contour\",\"colorbar\":{\"outlinewidth\":0,\"ticks\":\"\"},\"colorscale\":[[0.0,\"#0d0887\"],[0.1111111111111111,\"#46039f\"],[0.2222222222222222,\"#7201a8\"],[0.3333333333333333,\"#9c179e\"],[0.4444444444444444,\"#bd3786\"],[0.5555555555555556,\"#d8576b\"],[0.6666666666666666,\"#ed7953\"],[0.7777777777777778,\"#fb9f3a\"],[0.8888888888888888,\"#fdca26\"],[1.0,\"#f0f921\"]]}],\"surface\":[{\"type\":\"surface\",\"colorbar\":{\"outlinewidth\":0,\"ticks\":\"\"},\"colorscale\":[[0.0,\"#0d0887\"],[0.1111111111111111,\"#46039f\"],[0.2222222222222222,\"#7201a8\"],[0.3333333333333333,\"#9c179e\"],[0.4444444444444444,\"#bd3786\"],[0.5555555555555556,\"#d8576b\"],[0.6666666666666666,\"#ed7953\"],[0.7777777777777778,\"#fb9f3a\"],[0.8888888888888888,\"#fdca26\"],[1.0,\"#f0f921\"]]}],\"mesh3d\":[{\"type\":\"mesh3d\",\"colorbar\":{\"outlinewidth\":0,\"ticks\":\"\"}}],\"scatter\":[{\"fillpattern\":{\"fillmode\":\"overlay\",\"size\":10,\"solidity\":0.2},\"type\":\"scatter\"}],\"parcoords\":[{\"type\":\"parcoords\",\"line\":{\"colorbar\":{\"outlinewidth\":0,\"ticks\":\"\"}}}],\"scatterpolargl\":[{\"type\":\"scatterpolargl\",\"marker\":{\"colorbar\":{\"outlinewidth\":0,\"ticks\":\"\"}}}],\"bar\":[{\"error_x\":{\"color\":\"#2a3f5f\"},\"error_y\":{\"color\":\"#2a3f5f\"},\"marker\":{\"line\":{\"color\":\"white\",\"width\":0.5},\"pattern\":{\"fillmode\":\"overlay\",\"size\":10,\"solidity\":0.2}},\"type\":\"bar\"}],\"scattergeo\":[{\"type\":\"scattergeo\",\"marker\":{\"colorbar\":{\"outlinewidth\":0,\"ticks\":\"\"}}}],\"scatterpolar\":[{\"type\":\"scatterpolar\",\"marker\":{\"colorbar\":{\"outlinewidth\":0,\"ticks\":\"\"}}}],\"histogram\":[{\"marker\":{\"pattern\":{\"fillmode\":\"overlay\",\"size\":10,\"solidity\":0.2}},\"type\":\"histogram\"}],\"scattergl\":[{\"type\":\"scattergl\",\"marker\":{\"colorbar\":{\"outlinewidth\":0,\"ticks\":\"\"}}}],\"scatter3d\":[{\"type\":\"scatter3d\",\"line\":{\"colorbar\":{\"outlinewidth\":0,\"ticks\":\"\"}},\"marker\":{\"colorbar\":{\"outlinewidth\":0,\"ticks\":\"\"}}}],\"scattermapbox\":[{\"type\":\"scattermapbox\",\"marker\":{\"colorbar\":{\"outlinewidth\":0,\"ticks\":\"\"}}}],\"scatterternary\":[{\"type\":\"scatterternary\",\"marker\":{\"colorbar\":{\"outlinewidth\":0,\"ticks\":\"\"}}}],\"scattercarpet\":[{\"type\":\"scattercarpet\",\"marker\":{\"colorbar\":{\"outlinewidth\":0,\"ticks\":\"\"}}}],\"carpet\":[{\"aaxis\":{\"endlinecolor\":\"#2a3f5f\",\"gridcolor\":\"#C8D4E3\",\"linecolor\":\"#C8D4E3\",\"minorgridcolor\":\"#C8D4E3\",\"startlinecolor\":\"#2a3f5f\"},\"baxis\":{\"endlinecolor\":\"#2a3f5f\",\"gridcolor\":\"#C8D4E3\",\"linecolor\":\"#C8D4E3\",\"minorgridcolor\":\"#C8D4E3\",\"startlinecolor\":\"#2a3f5f\"},\"type\":\"carpet\"}],\"table\":[{\"cells\":{\"fill\":{\"color\":\"#EBF0F8\"},\"line\":{\"color\":\"white\"}},\"header\":{\"fill\":{\"color\":\"#C8D4E3\"},\"line\":{\"color\":\"white\"}},\"type\":\"table\"}],\"barpolar\":[{\"marker\":{\"line\":{\"color\":\"white\",\"width\":0.5},\"pattern\":{\"fillmode\":\"overlay\",\"size\":10,\"solidity\":0.2}},\"type\":\"barpolar\"}],\"pie\":[{\"automargin\":true,\"type\":\"pie\"}]},\"layout\":{\"autotypenumbers\":\"strict\",\"colorway\":[\"#636efa\",\"#EF553B\",\"#00cc96\",\"#ab63fa\",\"#FFA15A\",\"#19d3f3\",\"#FF6692\",\"#B6E880\",\"#FF97FF\",\"#FECB52\"],\"font\":{\"color\":\"#2a3f5f\"},\"hovermode\":\"closest\",\"hoverlabel\":{\"align\":\"left\"},\"paper_bgcolor\":\"white\",\"plot_bgcolor\":\"white\",\"polar\":{\"bgcolor\":\"white\",\"angularaxis\":{\"gridcolor\":\"#EBF0F8\",\"linecolor\":\"#EBF0F8\",\"ticks\":\"\"},\"radialaxis\":{\"gridcolor\":\"#EBF0F8\",\"linecolor\":\"#EBF0F8\",\"ticks\":\"\"}},\"ternary\":{\"bgcolor\":\"white\",\"aaxis\":{\"gridcolor\":\"#DFE8F3\",\"linecolor\":\"#A2B1C6\",\"ticks\":\"\"},\"baxis\":{\"gridcolor\":\"#DFE8F3\",\"linecolor\":\"#A2B1C6\",\"ticks\":\"\"},\"caxis\":{\"gridcolor\":\"#DFE8F3\",\"linecolor\":\"#A2B1C6\",\"ticks\":\"\"}},\"coloraxis\":{\"colorbar\":{\"outlinewidth\":0,\"ticks\":\"\"}},\"colorscale\":{\"sequential\":[[0.0,\"#0d0887\"],[0.1111111111111111,\"#46039f\"],[0.2222222222222222,\"#7201a8\"],[0.3333333333333333,\"#9c179e\"],[0.4444444444444444,\"#bd3786\"],[0.5555555555555556,\"#d8576b\"],[0.6666666666666666,\"#ed7953\"],[0.7777777777777778,\"#fb9f3a\"],[0.8888888888888888,\"#fdca26\"],[1.0,\"#f0f921\"]],\"sequentialminus\":[[0.0,\"#0d0887\"],[0.1111111111111111,\"#46039f\"],[0.2222222222222222,\"#7201a8\"],[0.3333333333333333,\"#9c179e\"],[0.4444444444444444,\"#bd3786\"],[0.5555555555555556,\"#d8576b\"],[0.6666666666666666,\"#ed7953\"],[0.7777777777777778,\"#fb9f3a\"],[0.8888888888888888,\"#fdca26\"],[1.0,\"#f0f921\"]],\"diverging\":[[0,\"#8e0152\"],[0.1,\"#c51b7d\"],[0.2,\"#de77ae\"],[0.3,\"#f1b6da\"],[0.4,\"#fde0ef\"],[0.5,\"#f7f7f7\"],[0.6,\"#e6f5d0\"],[0.7,\"#b8e186\"],[0.8,\"#7fbc41\"],[0.9,\"#4d9221\"],[1,\"#276419\"]]},\"xaxis\":{\"gridcolor\":\"#EBF0F8\",\"linecolor\":\"#EBF0F8\",\"ticks\":\"\",\"title\":{\"standoff\":15},\"zerolinecolor\":\"#EBF0F8\",\"automargin\":true,\"zerolinewidth\":2},\"yaxis\":{\"gridcolor\":\"#EBF0F8\",\"linecolor\":\"#EBF0F8\",\"ticks\":\"\",\"title\":{\"standoff\":15},\"zerolinecolor\":\"#EBF0F8\",\"automargin\":true,\"zerolinewidth\":2},\"scene\":{\"xaxis\":{\"backgroundcolor\":\"white\",\"gridcolor\":\"#DFE8F3\",\"linecolor\":\"#EBF0F8\",\"showbackground\":true,\"ticks\":\"\",\"zerolinecolor\":\"#EBF0F8\",\"gridwidth\":2},\"yaxis\":{\"backgroundcolor\":\"white\",\"gridcolor\":\"#DFE8F3\",\"linecolor\":\"#EBF0F8\",\"showbackground\":true,\"ticks\":\"\",\"zerolinecolor\":\"#EBF0F8\",\"gridwidth\":2},\"zaxis\":{\"backgroundcolor\":\"white\",\"gridcolor\":\"#DFE8F3\",\"linecolor\":\"#EBF0F8\",\"showbackground\":true,\"ticks\":\"\",\"zerolinecolor\":\"#EBF0F8\",\"gridwidth\":2}},\"shapedefaults\":{\"line\":{\"color\":\"#2a3f5f\"}},\"annotationdefaults\":{\"arrowcolor\":\"#2a3f5f\",\"arrowhead\":0,\"arrowwidth\":1},\"geo\":{\"bgcolor\":\"white\",\"landcolor\":\"white\",\"subunitcolor\":\"#C8D4E3\",\"showland\":true,\"showlakes\":true,\"lakecolor\":\"white\"},\"title\":{\"x\":0.05},\"mapbox\":{\"style\":\"light\"}}},\"xaxis\":{\"anchor\":\"y\",\"domain\":[0.0,1.0],\"title\":{\"text\":\"Participant ID\",\"font\":{\"family\":\"IBM Plex San\"}}},\"yaxis\":{\"anchor\":\"x\",\"domain\":[0.0,1.0],\"title\":{\"text\":\"Number of Days Completed\",\"font\":{\"family\":\"IBM Plex San\"}}},\"legend\":{\"tracegroupgap\":0},\"margin\":{\"t\":60},\"barmode\":\"relative\",\"shapes\":[{\"type\":\"line\",\"x0\":0,\"x1\":1,\"xref\":\"x domain\",\"y0\":10,\"y1\":10,\"yref\":\"y\"}],\"font\":{\"family\":\"IBM Plex San\",\"size\":20,\"color\":\"black\"},\"title\":{\"text\":\"Participant Adherence\",\"y\":0.9,\"x\":0.5,\"xanchor\":\"center\",\"yanchor\":\"top\"}},                        {\"responsive\": true}                    ).then(function(){\n",
       "                            \n",
       "var gd = document.getElementById('4c7bc5c8-5d7d-49f1-8f63-40a73069dca4');\n",
       "var x = new MutationObserver(function (mutations, observer) {{\n",
       "        var display = window.getComputedStyle(gd).display;\n",
       "        if (!display || display === 'none') {{\n",
       "            console.log([gd, 'removed!']);\n",
       "            Plotly.purge(gd);\n",
       "            observer.disconnect();\n",
       "        }}\n",
       "}});\n",
       "\n",
       "// Listen for the removal of the full notebook cells\n",
       "var notebookContainer = gd.closest('#notebook-container');\n",
       "if (notebookContainer) {{\n",
       "    x.observe(notebookContainer, {childList: true});\n",
       "}}\n",
       "\n",
       "// Listen for the clearing of the current output cell\n",
       "var outputEl = gd.closest('.output');\n",
       "if (outputEl) {{\n",
       "    x.observe(outputEl, {childList: true});\n",
       "}}\n",
       "\n",
       "                        })                };                });            </script>        </div>"
      ]
     },
     "metadata": {},
     "output_type": "display_data"
    }
   ],
   "source": [
    "fig = px.bar(df_sorted,x=df_pid_str.tolist(),y=df_sorted[\"N_Days_Hr\"].sort_values(ascending=False))#text=\"N_Days_Hr\"\n",
    "fig.add_hline(y=10)\n",
    "\n",
    "fig.update_yaxes(title_text=\"Number of Days Completed\",title_font_family=\"IBM Plex San\", row=1, col=1)\n",
    "fig.update_xaxes(title_text=\"Participant ID\", title_font_family=\"IBM Plex San\",row=1, col=1) #  tickangle=35,tickvals=df.index,showticklabels=True\n",
    "fig.update_traces(marker_color='rgb(24, 128, 139)', marker_line_color='rgb(8,48,107)')\n",
    "fig.update_layout(font=dict(\n",
    "        family=\"IBM Plex San\",\n",
    "        size=20,\n",
    "        color=\"black\"\n",
    "    ),\n",
    "                title={\n",
    "                    'text': \"Participant Adherence\",\n",
    "                    'y':0.9,\n",
    "                    'x':0.5,\n",
    "                    'xanchor': 'center',\n",
    "                    'yanchor': 'top'\n",
    "                }\n",
    "    )\n",
    "\n"
   ]
  },
  {
   "cell_type": "code",
   "execution_count": null,
   "metadata": {},
   "outputs": [],
   "source": []
  },
  {
   "cell_type": "markdown",
   "metadata": {},
   "source": [
    "## Greater than eq to 10 days only"
   ]
  },
  {
   "cell_type": "code",
   "execution_count": 203,
   "metadata": {},
   "outputs": [],
   "source": [
    "y = df_sorted[df_sorted[\"N_Days_Hr\"] >= 10][\"N_Days_Hr\"]\n",
    "x = []\n",
    "for index, value in enumerate(y):\n",
    "    x.append(index)\n",
    "df_above10 = pd.DataFrame({\"PID\":x,\n",
    "             \"Num_HR_Days\":y.sort_values(ascending=False)\n",
    "             })"
   ]
  },
  {
   "cell_type": "code",
   "execution_count": 204,
   "metadata": {},
   "outputs": [
    {
     "data": {
      "application/vnd.plotly.v1+json": {
       "config": {
        "plotlyServerURL": "https://plot.ly"
       },
       "data": [
        {
         "alignmentgroup": "True",
         "hovertemplate": "PID=%{x}<br>Num_HR_Days=%{text}<extra></extra>",
         "legendgroup": "",
         "marker": {
          "color": "rgb(24, 128, 139)",
          "line": {
           "color": "rgb(8,48,107)"
          },
          "pattern": {
           "shape": ""
          }
         },
         "name": "",
         "offsetgroup": "",
         "orientation": "v",
         "showlegend": false,
         "text": [
          32,
          22,
          22,
          22,
          21,
          20,
          20,
          19,
          18,
          18,
          17,
          17,
          17,
          16,
          16,
          16,
          16,
          16,
          15,
          15,
          15,
          15,
          15,
          14,
          14,
          14,
          14,
          14,
          14,
          14,
          14,
          14,
          14,
          14,
          14,
          13,
          13,
          13,
          13,
          13,
          12,
          12,
          12,
          12,
          12,
          12,
          12,
          12,
          12,
          11,
          11,
          11,
          11,
          11,
          10,
          10,
          10,
          10
         ],
         "textposition": "auto",
         "type": "bar",
         "x": [
          0,
          1,
          2,
          3,
          4,
          5,
          6,
          7,
          8,
          9,
          10,
          11,
          12,
          13,
          14,
          15,
          16,
          17,
          18,
          19,
          20,
          21,
          22,
          23,
          24,
          25,
          26,
          27,
          28,
          29,
          30,
          31,
          32,
          33,
          34,
          35,
          36,
          37,
          38,
          39,
          40,
          41,
          42,
          43,
          44,
          45,
          46,
          47,
          48,
          49,
          50,
          51,
          52,
          53,
          54,
          55,
          56,
          57
         ],
         "xaxis": "x",
         "y": [
          32,
          22,
          22,
          22,
          21,
          20,
          20,
          19,
          18,
          18,
          17,
          17,
          17,
          16,
          16,
          16,
          16,
          16,
          15,
          15,
          15,
          15,
          15,
          14,
          14,
          14,
          14,
          14,
          14,
          14,
          14,
          14,
          14,
          14,
          14,
          13,
          13,
          13,
          13,
          13,
          12,
          12,
          12,
          12,
          12,
          12,
          12,
          12,
          12,
          11,
          11,
          11,
          11,
          11,
          10,
          10,
          10,
          10
         ],
         "yaxis": "y"
        }
       ],
       "layout": {
        "barmode": "relative",
        "legend": {
         "tracegroupgap": 0
        },
        "margin": {
         "t": 60
        },
        "template": {
         "data": {
          "bar": [
           {
            "error_x": {
             "color": "#2a3f5f"
            },
            "error_y": {
             "color": "#2a3f5f"
            },
            "marker": {
             "line": {
              "color": "white",
              "width": 0.5
             },
             "pattern": {
              "fillmode": "overlay",
              "size": 10,
              "solidity": 0.2
             }
            },
            "type": "bar"
           }
          ],
          "barpolar": [
           {
            "marker": {
             "line": {
              "color": "white",
              "width": 0.5
             },
             "pattern": {
              "fillmode": "overlay",
              "size": 10,
              "solidity": 0.2
             }
            },
            "type": "barpolar"
           }
          ],
          "carpet": [
           {
            "aaxis": {
             "endlinecolor": "#2a3f5f",
             "gridcolor": "#C8D4E3",
             "linecolor": "#C8D4E3",
             "minorgridcolor": "#C8D4E3",
             "startlinecolor": "#2a3f5f"
            },
            "baxis": {
             "endlinecolor": "#2a3f5f",
             "gridcolor": "#C8D4E3",
             "linecolor": "#C8D4E3",
             "minorgridcolor": "#C8D4E3",
             "startlinecolor": "#2a3f5f"
            },
            "type": "carpet"
           }
          ],
          "choropleth": [
           {
            "colorbar": {
             "outlinewidth": 0,
             "ticks": ""
            },
            "type": "choropleth"
           }
          ],
          "contour": [
           {
            "colorbar": {
             "outlinewidth": 0,
             "ticks": ""
            },
            "colorscale": [
             [
              0,
              "#0d0887"
             ],
             [
              0.1111111111111111,
              "#46039f"
             ],
             [
              0.2222222222222222,
              "#7201a8"
             ],
             [
              0.3333333333333333,
              "#9c179e"
             ],
             [
              0.4444444444444444,
              "#bd3786"
             ],
             [
              0.5555555555555556,
              "#d8576b"
             ],
             [
              0.6666666666666666,
              "#ed7953"
             ],
             [
              0.7777777777777778,
              "#fb9f3a"
             ],
             [
              0.8888888888888888,
              "#fdca26"
             ],
             [
              1,
              "#f0f921"
             ]
            ],
            "type": "contour"
           }
          ],
          "contourcarpet": [
           {
            "colorbar": {
             "outlinewidth": 0,
             "ticks": ""
            },
            "type": "contourcarpet"
           }
          ],
          "heatmap": [
           {
            "colorbar": {
             "outlinewidth": 0,
             "ticks": ""
            },
            "colorscale": [
             [
              0,
              "#0d0887"
             ],
             [
              0.1111111111111111,
              "#46039f"
             ],
             [
              0.2222222222222222,
              "#7201a8"
             ],
             [
              0.3333333333333333,
              "#9c179e"
             ],
             [
              0.4444444444444444,
              "#bd3786"
             ],
             [
              0.5555555555555556,
              "#d8576b"
             ],
             [
              0.6666666666666666,
              "#ed7953"
             ],
             [
              0.7777777777777778,
              "#fb9f3a"
             ],
             [
              0.8888888888888888,
              "#fdca26"
             ],
             [
              1,
              "#f0f921"
             ]
            ],
            "type": "heatmap"
           }
          ],
          "heatmapgl": [
           {
            "colorbar": {
             "outlinewidth": 0,
             "ticks": ""
            },
            "colorscale": [
             [
              0,
              "#0d0887"
             ],
             [
              0.1111111111111111,
              "#46039f"
             ],
             [
              0.2222222222222222,
              "#7201a8"
             ],
             [
              0.3333333333333333,
              "#9c179e"
             ],
             [
              0.4444444444444444,
              "#bd3786"
             ],
             [
              0.5555555555555556,
              "#d8576b"
             ],
             [
              0.6666666666666666,
              "#ed7953"
             ],
             [
              0.7777777777777778,
              "#fb9f3a"
             ],
             [
              0.8888888888888888,
              "#fdca26"
             ],
             [
              1,
              "#f0f921"
             ]
            ],
            "type": "heatmapgl"
           }
          ],
          "histogram": [
           {
            "marker": {
             "pattern": {
              "fillmode": "overlay",
              "size": 10,
              "solidity": 0.2
             }
            },
            "type": "histogram"
           }
          ],
          "histogram2d": [
           {
            "colorbar": {
             "outlinewidth": 0,
             "ticks": ""
            },
            "colorscale": [
             [
              0,
              "#0d0887"
             ],
             [
              0.1111111111111111,
              "#46039f"
             ],
             [
              0.2222222222222222,
              "#7201a8"
             ],
             [
              0.3333333333333333,
              "#9c179e"
             ],
             [
              0.4444444444444444,
              "#bd3786"
             ],
             [
              0.5555555555555556,
              "#d8576b"
             ],
             [
              0.6666666666666666,
              "#ed7953"
             ],
             [
              0.7777777777777778,
              "#fb9f3a"
             ],
             [
              0.8888888888888888,
              "#fdca26"
             ],
             [
              1,
              "#f0f921"
             ]
            ],
            "type": "histogram2d"
           }
          ],
          "histogram2dcontour": [
           {
            "colorbar": {
             "outlinewidth": 0,
             "ticks": ""
            },
            "colorscale": [
             [
              0,
              "#0d0887"
             ],
             [
              0.1111111111111111,
              "#46039f"
             ],
             [
              0.2222222222222222,
              "#7201a8"
             ],
             [
              0.3333333333333333,
              "#9c179e"
             ],
             [
              0.4444444444444444,
              "#bd3786"
             ],
             [
              0.5555555555555556,
              "#d8576b"
             ],
             [
              0.6666666666666666,
              "#ed7953"
             ],
             [
              0.7777777777777778,
              "#fb9f3a"
             ],
             [
              0.8888888888888888,
              "#fdca26"
             ],
             [
              1,
              "#f0f921"
             ]
            ],
            "type": "histogram2dcontour"
           }
          ],
          "mesh3d": [
           {
            "colorbar": {
             "outlinewidth": 0,
             "ticks": ""
            },
            "type": "mesh3d"
           }
          ],
          "parcoords": [
           {
            "line": {
             "colorbar": {
              "outlinewidth": 0,
              "ticks": ""
             }
            },
            "type": "parcoords"
           }
          ],
          "pie": [
           {
            "automargin": true,
            "type": "pie"
           }
          ],
          "scatter": [
           {
            "fillpattern": {
             "fillmode": "overlay",
             "size": 10,
             "solidity": 0.2
            },
            "type": "scatter"
           }
          ],
          "scatter3d": [
           {
            "line": {
             "colorbar": {
              "outlinewidth": 0,
              "ticks": ""
             }
            },
            "marker": {
             "colorbar": {
              "outlinewidth": 0,
              "ticks": ""
             }
            },
            "type": "scatter3d"
           }
          ],
          "scattercarpet": [
           {
            "marker": {
             "colorbar": {
              "outlinewidth": 0,
              "ticks": ""
             }
            },
            "type": "scattercarpet"
           }
          ],
          "scattergeo": [
           {
            "marker": {
             "colorbar": {
              "outlinewidth": 0,
              "ticks": ""
             }
            },
            "type": "scattergeo"
           }
          ],
          "scattergl": [
           {
            "marker": {
             "colorbar": {
              "outlinewidth": 0,
              "ticks": ""
             }
            },
            "type": "scattergl"
           }
          ],
          "scattermapbox": [
           {
            "marker": {
             "colorbar": {
              "outlinewidth": 0,
              "ticks": ""
             }
            },
            "type": "scattermapbox"
           }
          ],
          "scatterpolar": [
           {
            "marker": {
             "colorbar": {
              "outlinewidth": 0,
              "ticks": ""
             }
            },
            "type": "scatterpolar"
           }
          ],
          "scatterpolargl": [
           {
            "marker": {
             "colorbar": {
              "outlinewidth": 0,
              "ticks": ""
             }
            },
            "type": "scatterpolargl"
           }
          ],
          "scatterternary": [
           {
            "marker": {
             "colorbar": {
              "outlinewidth": 0,
              "ticks": ""
             }
            },
            "type": "scatterternary"
           }
          ],
          "surface": [
           {
            "colorbar": {
             "outlinewidth": 0,
             "ticks": ""
            },
            "colorscale": [
             [
              0,
              "#0d0887"
             ],
             [
              0.1111111111111111,
              "#46039f"
             ],
             [
              0.2222222222222222,
              "#7201a8"
             ],
             [
              0.3333333333333333,
              "#9c179e"
             ],
             [
              0.4444444444444444,
              "#bd3786"
             ],
             [
              0.5555555555555556,
              "#d8576b"
             ],
             [
              0.6666666666666666,
              "#ed7953"
             ],
             [
              0.7777777777777778,
              "#fb9f3a"
             ],
             [
              0.8888888888888888,
              "#fdca26"
             ],
             [
              1,
              "#f0f921"
             ]
            ],
            "type": "surface"
           }
          ],
          "table": [
           {
            "cells": {
             "fill": {
              "color": "#EBF0F8"
             },
             "line": {
              "color": "white"
             }
            },
            "header": {
             "fill": {
              "color": "#C8D4E3"
             },
             "line": {
              "color": "white"
             }
            },
            "type": "table"
           }
          ]
         },
         "layout": {
          "title": {
           "font": {
            "family": "Rockwell"
           }
          }
         }
        },
        "xaxis": {
         "anchor": "y",
         "domain": [
          0,
          1
         ],
         "title": {
          "font": {
           "family": "IBM Plex San"
          },
          "text": "Participant ID"
         }
        },
        "yaxis": {
         "anchor": "x",
         "domain": [
          0,
          1
         ],
         "title": {
          "font": {
           "family": "IBM Plex San"
          },
          "text": "Number of Days Completed"
         }
        }
       }
      },
      "text/html": [
       "<div>                            <div id=\"b77fc6b2-bd07-4538-b745-a73dbb0ecc4f\" class=\"plotly-graph-div\" style=\"height:525px; width:100%;\"></div>            <script type=\"text/javascript\">                require([\"plotly\"], function(Plotly) {                    window.PLOTLYENV=window.PLOTLYENV || {};                                    if (document.getElementById(\"b77fc6b2-bd07-4538-b745-a73dbb0ecc4f\")) {                    Plotly.newPlot(                        \"b77fc6b2-bd07-4538-b745-a73dbb0ecc4f\",                        [{\"alignmentgroup\":\"True\",\"hovertemplate\":\"PID=%{x}<br>Num_HR_Days=%{text}<extra></extra>\",\"legendgroup\":\"\",\"marker\":{\"color\":\"rgb(24, 128, 139)\",\"pattern\":{\"shape\":\"\"},\"line\":{\"color\":\"rgb(8,48,107)\"}},\"name\":\"\",\"offsetgroup\":\"\",\"orientation\":\"v\",\"showlegend\":false,\"text\":[32.0,22.0,22.0,22.0,21.0,20.0,20.0,19.0,18.0,18.0,17.0,17.0,17.0,16.0,16.0,16.0,16.0,16.0,15.0,15.0,15.0,15.0,15.0,14.0,14.0,14.0,14.0,14.0,14.0,14.0,14.0,14.0,14.0,14.0,14.0,13.0,13.0,13.0,13.0,13.0,12.0,12.0,12.0,12.0,12.0,12.0,12.0,12.0,12.0,11.0,11.0,11.0,11.0,11.0,10.0,10.0,10.0,10.0],\"textposition\":\"auto\",\"x\":[0,1,2,3,4,5,6,7,8,9,10,11,12,13,14,15,16,17,18,19,20,21,22,23,24,25,26,27,28,29,30,31,32,33,34,35,36,37,38,39,40,41,42,43,44,45,46,47,48,49,50,51,52,53,54,55,56,57],\"xaxis\":\"x\",\"y\":[32,22,22,22,21,20,20,19,18,18,17,17,17,16,16,16,16,16,15,15,15,15,15,14,14,14,14,14,14,14,14,14,14,14,14,13,13,13,13,13,12,12,12,12,12,12,12,12,12,11,11,11,11,11,10,10,10,10],\"yaxis\":\"y\",\"type\":\"bar\"}],                        {\"template\":{\"data\":{\"histogram2dcontour\":[{\"type\":\"histogram2dcontour\",\"colorbar\":{\"outlinewidth\":0,\"ticks\":\"\"},\"colorscale\":[[0.0,\"#0d0887\"],[0.1111111111111111,\"#46039f\"],[0.2222222222222222,\"#7201a8\"],[0.3333333333333333,\"#9c179e\"],[0.4444444444444444,\"#bd3786\"],[0.5555555555555556,\"#d8576b\"],[0.6666666666666666,\"#ed7953\"],[0.7777777777777778,\"#fb9f3a\"],[0.8888888888888888,\"#fdca26\"],[1.0,\"#f0f921\"]]}],\"choropleth\":[{\"type\":\"choropleth\",\"colorbar\":{\"outlinewidth\":0,\"ticks\":\"\"}}],\"histogram2d\":[{\"type\":\"histogram2d\",\"colorbar\":{\"outlinewidth\":0,\"ticks\":\"\"},\"colorscale\":[[0.0,\"#0d0887\"],[0.1111111111111111,\"#46039f\"],[0.2222222222222222,\"#7201a8\"],[0.3333333333333333,\"#9c179e\"],[0.4444444444444444,\"#bd3786\"],[0.5555555555555556,\"#d8576b\"],[0.6666666666666666,\"#ed7953\"],[0.7777777777777778,\"#fb9f3a\"],[0.8888888888888888,\"#fdca26\"],[1.0,\"#f0f921\"]]}],\"heatmap\":[{\"type\":\"heatmap\",\"colorbar\":{\"outlinewidth\":0,\"ticks\":\"\"},\"colorscale\":[[0.0,\"#0d0887\"],[0.1111111111111111,\"#46039f\"],[0.2222222222222222,\"#7201a8\"],[0.3333333333333333,\"#9c179e\"],[0.4444444444444444,\"#bd3786\"],[0.5555555555555556,\"#d8576b\"],[0.6666666666666666,\"#ed7953\"],[0.7777777777777778,\"#fb9f3a\"],[0.8888888888888888,\"#fdca26\"],[1.0,\"#f0f921\"]]}],\"heatmapgl\":[{\"type\":\"heatmapgl\",\"colorbar\":{\"outlinewidth\":0,\"ticks\":\"\"},\"colorscale\":[[0.0,\"#0d0887\"],[0.1111111111111111,\"#46039f\"],[0.2222222222222222,\"#7201a8\"],[0.3333333333333333,\"#9c179e\"],[0.4444444444444444,\"#bd3786\"],[0.5555555555555556,\"#d8576b\"],[0.6666666666666666,\"#ed7953\"],[0.7777777777777778,\"#fb9f3a\"],[0.8888888888888888,\"#fdca26\"],[1.0,\"#f0f921\"]]}],\"contourcarpet\":[{\"type\":\"contourcarpet\",\"colorbar\":{\"outlinewidth\":0,\"ticks\":\"\"}}],\"contour\":[{\"type\":\"contour\",\"colorbar\":{\"outlinewidth\":0,\"ticks\":\"\"},\"colorscale\":[[0.0,\"#0d0887\"],[0.1111111111111111,\"#46039f\"],[0.2222222222222222,\"#7201a8\"],[0.3333333333333333,\"#9c179e\"],[0.4444444444444444,\"#bd3786\"],[0.5555555555555556,\"#d8576b\"],[0.6666666666666666,\"#ed7953\"],[0.7777777777777778,\"#fb9f3a\"],[0.8888888888888888,\"#fdca26\"],[1.0,\"#f0f921\"]]}],\"surface\":[{\"type\":\"surface\",\"colorbar\":{\"outlinewidth\":0,\"ticks\":\"\"},\"colorscale\":[[0.0,\"#0d0887\"],[0.1111111111111111,\"#46039f\"],[0.2222222222222222,\"#7201a8\"],[0.3333333333333333,\"#9c179e\"],[0.4444444444444444,\"#bd3786\"],[0.5555555555555556,\"#d8576b\"],[0.6666666666666666,\"#ed7953\"],[0.7777777777777778,\"#fb9f3a\"],[0.8888888888888888,\"#fdca26\"],[1.0,\"#f0f921\"]]}],\"mesh3d\":[{\"type\":\"mesh3d\",\"colorbar\":{\"outlinewidth\":0,\"ticks\":\"\"}}],\"scatter\":[{\"fillpattern\":{\"fillmode\":\"overlay\",\"size\":10,\"solidity\":0.2},\"type\":\"scatter\"}],\"parcoords\":[{\"type\":\"parcoords\",\"line\":{\"colorbar\":{\"outlinewidth\":0,\"ticks\":\"\"}}}],\"scatterpolargl\":[{\"type\":\"scatterpolargl\",\"marker\":{\"colorbar\":{\"outlinewidth\":0,\"ticks\":\"\"}}}],\"bar\":[{\"error_x\":{\"color\":\"#2a3f5f\"},\"error_y\":{\"color\":\"#2a3f5f\"},\"marker\":{\"line\":{\"color\":\"white\",\"width\":0.5},\"pattern\":{\"fillmode\":\"overlay\",\"size\":10,\"solidity\":0.2}},\"type\":\"bar\"}],\"scattergeo\":[{\"type\":\"scattergeo\",\"marker\":{\"colorbar\":{\"outlinewidth\":0,\"ticks\":\"\"}}}],\"scatterpolar\":[{\"type\":\"scatterpolar\",\"marker\":{\"colorbar\":{\"outlinewidth\":0,\"ticks\":\"\"}}}],\"histogram\":[{\"marker\":{\"pattern\":{\"fillmode\":\"overlay\",\"size\":10,\"solidity\":0.2}},\"type\":\"histogram\"}],\"scattergl\":[{\"type\":\"scattergl\",\"marker\":{\"colorbar\":{\"outlinewidth\":0,\"ticks\":\"\"}}}],\"scatter3d\":[{\"type\":\"scatter3d\",\"line\":{\"colorbar\":{\"outlinewidth\":0,\"ticks\":\"\"}},\"marker\":{\"colorbar\":{\"outlinewidth\":0,\"ticks\":\"\"}}}],\"scattermapbox\":[{\"type\":\"scattermapbox\",\"marker\":{\"colorbar\":{\"outlinewidth\":0,\"ticks\":\"\"}}}],\"scatterternary\":[{\"type\":\"scatterternary\",\"marker\":{\"colorbar\":{\"outlinewidth\":0,\"ticks\":\"\"}}}],\"scattercarpet\":[{\"type\":\"scattercarpet\",\"marker\":{\"colorbar\":{\"outlinewidth\":0,\"ticks\":\"\"}}}],\"carpet\":[{\"aaxis\":{\"endlinecolor\":\"#2a3f5f\",\"gridcolor\":\"#C8D4E3\",\"linecolor\":\"#C8D4E3\",\"minorgridcolor\":\"#C8D4E3\",\"startlinecolor\":\"#2a3f5f\"},\"baxis\":{\"endlinecolor\":\"#2a3f5f\",\"gridcolor\":\"#C8D4E3\",\"linecolor\":\"#C8D4E3\",\"minorgridcolor\":\"#C8D4E3\",\"startlinecolor\":\"#2a3f5f\"},\"type\":\"carpet\"}],\"table\":[{\"cells\":{\"fill\":{\"color\":\"#EBF0F8\"},\"line\":{\"color\":\"white\"}},\"header\":{\"fill\":{\"color\":\"#C8D4E3\"},\"line\":{\"color\":\"white\"}},\"type\":\"table\"}],\"barpolar\":[{\"marker\":{\"line\":{\"color\":\"white\",\"width\":0.5},\"pattern\":{\"fillmode\":\"overlay\",\"size\":10,\"solidity\":0.2}},\"type\":\"barpolar\"}],\"pie\":[{\"automargin\":true,\"type\":\"pie\"}]},\"layout\":{\"title\":{\"font\":{\"family\":\"Rockwell\"}}}},\"xaxis\":{\"anchor\":\"y\",\"domain\":[0.0,1.0],\"title\":{\"text\":\"Participant ID\",\"font\":{\"family\":\"IBM Plex San\"}}},\"yaxis\":{\"anchor\":\"x\",\"domain\":[0.0,1.0],\"title\":{\"text\":\"Number of Days Completed\",\"font\":{\"family\":\"IBM Plex San\"}}},\"legend\":{\"tracegroupgap\":0},\"margin\":{\"t\":60},\"barmode\":\"relative\"},                        {\"responsive\": true}                    ).then(function(){\n",
       "                            \n",
       "var gd = document.getElementById('b77fc6b2-bd07-4538-b745-a73dbb0ecc4f');\n",
       "var x = new MutationObserver(function (mutations, observer) {{\n",
       "        var display = window.getComputedStyle(gd).display;\n",
       "        if (!display || display === 'none') {{\n",
       "            console.log([gd, 'removed!']);\n",
       "            Plotly.purge(gd);\n",
       "            observer.disconnect();\n",
       "        }}\n",
       "}});\n",
       "\n",
       "// Listen for the removal of the full notebook cells\n",
       "var notebookContainer = gd.closest('#notebook-container');\n",
       "if (notebookContainer) {{\n",
       "    x.observe(notebookContainer, {childList: true});\n",
       "}}\n",
       "\n",
       "// Listen for the clearing of the current output cell\n",
       "var outputEl = gd.closest('.output');\n",
       "if (outputEl) {{\n",
       "    x.observe(outputEl, {childList: true});\n",
       "}}\n",
       "\n",
       "                        })                };                });            </script>        </div>"
      ]
     },
     "metadata": {},
     "output_type": "display_data"
    }
   ],
   "source": [
    "fig = px.bar(df_above10,x=\"PID\",y=\"Num_HR_Days\",text=\"Num_HR_Days\")\n",
    "fig.update_yaxes(title_text=\"Number of Days Completed\",title_font_family=\"IBM Plex San\", row=1, col=1)\n",
    "fig.update_xaxes(title_text=\"Participant ID\", title_font_family=\"IBM Plex San\",row=1, col=1)\n",
    "fig.update_traces(marker_color='rgb(24, 128, 139)', marker_line_color='rgb(8,48,107)')\n",
    "fig.update_layout(template = large_rockwell_template)\n"
   ]
  },
  {
   "cell_type": "code",
   "execution_count": null,
   "metadata": {},
   "outputs": [],
   "source": []
  },
  {
   "cell_type": "code",
   "execution_count": null,
   "metadata": {},
   "outputs": [],
   "source": []
  },
  {
   "cell_type": "code",
   "execution_count": null,
   "metadata": {},
   "outputs": [],
   "source": []
  },
  {
   "cell_type": "code",
   "execution_count": 57,
   "metadata": {},
   "outputs": [],
   "source": []
  },
  {
   "cell_type": "code",
   "execution_count": null,
   "metadata": {},
   "outputs": [],
   "source": []
  },
  {
   "cell_type": "markdown",
   "metadata": {},
   "source": [
    "# Duplicate Timestamps."
   ]
  },
  {
   "cell_type": "code",
   "execution_count": 17,
   "metadata": {},
   "outputs": [],
   "source": [
    "# Only for this participant list check the timestamps - pid_pist_above_10_days"
   ]
  },
  {
   "cell_type": "code",
   "execution_count": 22,
   "metadata": {},
   "outputs": [
    {
     "name": "stdout",
     "output_type": "stream",
     "text": [
      "Your browser has been opened to visit:\n",
      "\n",
      "    https://accounts.google.com/o/oauth2/auth?client_id=583037020494-usvpj8phlhs9of9bfpuom070fsehs1c8.apps.googleusercontent.com&redirect_uri=http%3A%2F%2Flocalhost%3A8080%2F&scope=https%3A%2F%2Fwww.googleapis.com%2Fauth%2Fdrive&access_type=offline&response_type=code\n",
      "\n",
      "Authentication successful.\n"
     ]
    }
   ],
   "source": [
    "gauth = GoogleAuth()\n",
    "gauth.LocalWebserverAuth() \n",
    "drive = GoogleDrive(gauth)"
   ]
  },
  {
   "cell_type": "code",
   "execution_count": 18,
   "metadata": {},
   "outputs": [],
   "source": [
    "seperate_Data_folder_id = '1lkNmQHD4Qc-Rz1htsbED8TuPuT1U93Z0'\n",
    "# Returns a list of patient folders in the google drive.\n",
    "def get_num_patients(seperate_Data_folder_id):\n",
    "\n",
    "    query = f\"'{seperate_Data_folder_id}' in parents and trashed=false\"\n",
    "    #print(\"query = \",type(query))\n",
    "    fileList = drive.ListFile({'q':query }).GetList()\n",
    "    count_patient = []\n",
    "    #print(\"NUMBER OF AVALIABLE PATIENTS ===\",len(fileList))\n",
    "    for i in fileList:\n",
    "        if i['title'].startswith(\"Pat\"):\n",
    "            #print(\"FILETITLE- \",int(i['title'].split(\"_\")[1]))\n",
    "            count_patient.append(int(i['title'].split(\"_\")[1]))\n",
    "    return count_patient"
   ]
  },
  {
   "cell_type": "code",
   "execution_count": 23,
   "metadata": {},
   "outputs": [],
   "source": [
    "# count_patient = get_num_patients(seperate_Data_folder_id)"
   ]
  },
  {
   "cell_type": "code",
   "execution_count": 41,
   "metadata": {},
   "outputs": [],
   "source": [
    "# Reads json files form google drive.\n",
    "# and string_name_for json file  - \"stats_hourly.json\"\n",
    "# seperate_Data_folder_id,patientID,json_filename - hourly.json\n",
    "def gd_json_read(seperate_Data_folder_id,patientID):\n",
    "    query = f\"'{seperate_Data_folder_id}' in parents and trashed=false\"\n",
    "    print(\"query = \",type(query))\n",
    "    fileList = drive.ListFile({'q':query }).GetList()\n",
    "    # ED EAR - HR Datafolder - List of all HR files using google drive folder.\n",
    "    #int(\"NUMBER OF AVALIABLE PATIENTS ===\",len(fileList))\n",
    "    for patient_folder in fileList:\n",
    "        # Read only folders starting with \"PatientID_\"\n",
    "        if patient_folder['title'].startswith(\"Pat\"): # If it starts with Pat only.\n",
    "            # Read only files starting with \"PatientID_\".\n",
    "            if patient_folder[\"title\"].startswith(\"PatientID_\" + str(patientID)):\n",
    "                print(\"patientID ======\",patientID)\n",
    "                data_files = drive.ListFile({\n",
    "                    'q': f\"'{patient_folder['id']}' in parents and trashed=false\"\n",
    "                    }).GetList()\n",
    "                # Gets each file in the SeperateData/PatientID_130/ filder Eg:- HR_all.csv, HR_SDNN.csv etc..\n",
    "                for sensor_file in data_files:\n",
    "                    #rint( \" sensor_file\" ,  sensor_file[\"title\"])\n",
    "                    # sensor_file[\"title\"] = PatientID_146_hr_stats_daily.json\n",
    "                    if sensor_file[\"title\"].endswith(\"HR.csv\"):\n",
    "                        URL = f\"https://drive.google.com/file/d/{sensor_file['id']}/view?usp=sharing\"\n",
    "                        path = 'https://drive.google.com/uc?export=download&id='+URL.split('/')[-2]\n",
    "                        print(\"PATH-\",path)\n",
    "                        urlData = requests.get(path).content\n",
    "                        df = pd.read_csv(io.StringIO(urlData.decode('utf-8')))\n",
    "                        #rint(df.head())\n",
    "                        return df\n",
    "                        #response = urlopen(path)\n",
    "                        #json_data = json.loads(response.read())\n",
    "                        #return json_data\n",
    "                    "
   ]
  },
  {
   "cell_type": "code",
   "execution_count": 45,
   "metadata": {},
   "outputs": [
    {
     "name": "stdout",
     "output_type": "stream",
     "text": [
      "query =  <class 'str'>\n",
      "NUMBER OF AVALIABLE PATIENTS === 126\n",
      "patientID ====== 22\n",
      "PATH- https://drive.google.com/uc?export=download&id=1_FVYkheb14oec81oUCb9de_3TL9CB-jf\n",
      "query =  <class 'str'>\n",
      "NUMBER OF AVALIABLE PATIENTS === 126\n",
      "patientID ====== 23\n",
      "PATH- https://drive.google.com/uc?export=download&id=1sae58D9b18NZpqcwWjeb-mW-YiZO4Gmm\n",
      "query =  <class 'str'>\n",
      "NUMBER OF AVALIABLE PATIENTS === 126\n",
      "patientID ====== 24\n",
      "PATH- https://drive.google.com/uc?export=download&id=1hKhyZoZ8XYwywb__5VMRzTyzyBAhzgEq\n",
      "query =  <class 'str'>\n",
      "NUMBER OF AVALIABLE PATIENTS === 126\n",
      "patientID ====== 25\n",
      "PATH- https://drive.google.com/uc?export=download&id=1I07t180Hdk8uwQ0uaUXUS8YdjAt__XjS\n",
      "query =  <class 'str'>\n",
      "NUMBER OF AVALIABLE PATIENTS === 126\n",
      "patientID ====== 26\n",
      "PATH- https://drive.google.com/uc?export=download&id=1WK25Z-kbuNJAEhq3EoiPecIkaNBxu5H0\n",
      "query =  <class 'str'>\n",
      "NUMBER OF AVALIABLE PATIENTS === 126\n",
      "patientID ====== 27\n",
      "PATH- https://drive.google.com/uc?export=download&id=1CLyhMHhht6NBdtRQd8AszFo1bQyb6zlF\n",
      "query =  <class 'str'>\n",
      "NUMBER OF AVALIABLE PATIENTS === 126\n",
      "patientID ====== 28\n",
      "PATH- https://drive.google.com/uc?export=download&id=1VJetGo-n63FugHo-OT469TugNzUm5wfi\n",
      "query =  <class 'str'>\n",
      "NUMBER OF AVALIABLE PATIENTS === 126\n",
      "patientID ====== 29\n",
      "PATH- https://drive.google.com/uc?export=download&id=18G7dfLuvlyJLL-U2ZO1B4g49q8te7ACX\n",
      "query =  <class 'str'>\n",
      "NUMBER OF AVALIABLE PATIENTS === 126\n",
      "patientID ====== 30\n",
      "PATH- https://drive.google.com/uc?export=download&id=1rvRzxOAqGs-ukDp27Q3iW3QQ8tmjHVCI\n",
      "query =  <class 'str'>\n",
      "NUMBER OF AVALIABLE PATIENTS === 126\n",
      "patientID ====== 31\n",
      "PATH- https://drive.google.com/uc?export=download&id=1p6zhajK6Ngd8HOyvAy5fggjcJSfNNsWW\n",
      "query =  <class 'str'>\n",
      "NUMBER OF AVALIABLE PATIENTS === 126\n",
      "patientID ====== 33\n",
      "PATH- https://drive.google.com/uc?export=download&id=1n53uD8WYdnpXvKoxBJ90twWN1XPwITNZ\n",
      "query =  <class 'str'>\n",
      "NUMBER OF AVALIABLE PATIENTS === 126\n",
      "patientID ====== 34\n",
      "PATH- https://drive.google.com/uc?export=download&id=1VyCRXx7do0woR8vprowRWdfeuhDTcUO6\n",
      "query =  <class 'str'>\n",
      "NUMBER OF AVALIABLE PATIENTS === 126\n",
      "patientID ====== 35\n",
      "PATH- https://drive.google.com/uc?export=download&id=1I_UvO1VAJoYKok1kEQf9rKSpiXPYbKx0\n",
      "query =  <class 'str'>\n",
      "NUMBER OF AVALIABLE PATIENTS === 126\n",
      "patientID ====== 36\n",
      "PATH- https://drive.google.com/uc?export=download&id=1aQ2sfJ6s8cuQo14X9nEhEegl_48xjT_y\n",
      "query =  <class 'str'>\n",
      "NUMBER OF AVALIABLE PATIENTS === 126\n",
      "patientID ====== 38\n",
      "PATH- https://drive.google.com/uc?export=download&id=1JpWPRNBjz4XOc7SvSkVM5Li4FPbyrPfv\n",
      "query =  <class 'str'>\n",
      "NUMBER OF AVALIABLE PATIENTS === 126\n",
      "patientID ====== 40\n",
      "PATH- https://drive.google.com/uc?export=download&id=1XgFMAZG43h8WlX54QgX9TNn80o6NVIi4\n",
      "query =  <class 'str'>\n",
      "NUMBER OF AVALIABLE PATIENTS === 126\n",
      "patientID ====== 42\n",
      "PATH- https://drive.google.com/uc?export=download&id=1PoZbdBGG14sF376HPzX8MitQBvOM5TXA\n",
      "query =  <class 'str'>\n",
      "NUMBER OF AVALIABLE PATIENTS === 126\n",
      "patientID ====== 44\n",
      "PATH- https://drive.google.com/uc?export=download&id=1fUwDEfKxLbhLa1wFgvzh9tUVBXnSlTrS\n",
      "query =  <class 'str'>\n",
      "NUMBER OF AVALIABLE PATIENTS === 126\n",
      "patientID ====== 45\n",
      "PATH- https://drive.google.com/uc?export=download&id=1vPimwZv2Jkk0u0GcYsXSgO1FWmUJPycs\n",
      "query =  <class 'str'>\n",
      "NUMBER OF AVALIABLE PATIENTS === 126\n",
      "patientID ====== 50\n",
      "PATH- https://drive.google.com/uc?export=download&id=1Tc-u-L3zTbBgtl0kW_ntRso14rm-67Ir\n",
      "query =  <class 'str'>\n",
      "NUMBER OF AVALIABLE PATIENTS === 126\n",
      "patientID ====== 51\n",
      "PATH- https://drive.google.com/uc?export=download&id=1jo1bT5Ohmdk9tvgpnL_giqMTcXD88aPD\n",
      "query =  <class 'str'>\n",
      "NUMBER OF AVALIABLE PATIENTS === 126\n",
      "patientID ====== 52\n",
      "PATH- https://drive.google.com/uc?export=download&id=1UJlAajgUQRz4VE2BNQIRw-MBC8u8fXuf\n",
      "query =  <class 'str'>\n",
      "NUMBER OF AVALIABLE PATIENTS === 126\n",
      "patientID ====== 53\n",
      "PATH- https://drive.google.com/uc?export=download&id=1MzuJi5hJHxwb9-_4mD8jSHCZz4nm919g\n",
      "query =  <class 'str'>\n",
      "NUMBER OF AVALIABLE PATIENTS === 126\n",
      "patientID ====== 54\n",
      "PATH- https://drive.google.com/uc?export=download&id=12L9qhSn63b3_jXWwQ9dFaKZtsZejsSBC\n",
      "query =  <class 'str'>\n",
      "NUMBER OF AVALIABLE PATIENTS === 126\n",
      "patientID ====== 56\n",
      "PATH- https://drive.google.com/uc?export=download&id=1nv4INuQMqKDYopexI3S8h402nUd4eLdJ\n",
      "query =  <class 'str'>\n",
      "NUMBER OF AVALIABLE PATIENTS === 126\n",
      "patientID ====== 58\n",
      "PATH- https://drive.google.com/uc?export=download&id=1yXa3cZF8PGQt2blnHvIo7xtH4ZD4PzIG\n",
      "query =  <class 'str'>\n",
      "NUMBER OF AVALIABLE PATIENTS === 126\n",
      "patientID ====== 68\n",
      "PATH- https://drive.google.com/uc?export=download&id=18ESBfUwBJxPu8-XjWK36EUJbc0E-kksW\n",
      "query =  <class 'str'>\n",
      "NUMBER OF AVALIABLE PATIENTS === 126\n",
      "patientID ====== 71\n",
      "PATH- https://drive.google.com/uc?export=download&id=1RFQs8GwAahIODnP0wqBBoG6UDuu-Jbun\n",
      "query =  <class 'str'>\n",
      "NUMBER OF AVALIABLE PATIENTS === 126\n",
      "patientID ====== 72\n",
      "PATH- https://drive.google.com/uc?export=download&id=1TmxaOfkKJDo68WllzziOT3quVs2PYkd5\n",
      "query =  <class 'str'>\n",
      "NUMBER OF AVALIABLE PATIENTS === 126\n",
      "patientID ====== 74\n",
      "PATH- https://drive.google.com/uc?export=download&id=1x95ZL4EZSVwq-rvnNdZWVU4q_A8_B-wC\n",
      "query =  <class 'str'>\n",
      "NUMBER OF AVALIABLE PATIENTS === 126\n",
      "patientID ====== 75\n",
      "PATH- https://drive.google.com/uc?export=download&id=1v6OgFjZTNDHMoKH153s8PgLkFOWhhmyO\n",
      "query =  <class 'str'>\n",
      "NUMBER OF AVALIABLE PATIENTS === 126\n",
      "patientID ====== 78\n",
      "PATH- https://drive.google.com/uc?export=download&id=1hm9T5lhWfwvGfZvMzW9ogXgrILeu8cX8\n",
      "query =  <class 'str'>\n",
      "NUMBER OF AVALIABLE PATIENTS === 126\n",
      "patientID ====== 80\n",
      "PATH- https://drive.google.com/uc?export=download&id=1PqrD5dP5muV-jrURlz7YFaHCxXTTdLO6\n",
      "query =  <class 'str'>\n",
      "NUMBER OF AVALIABLE PATIENTS === 126\n",
      "patientID ====== 83\n",
      "PATH- https://drive.google.com/uc?export=download&id=15vK45Scp5IiphNECAJtWT-4Kou6HJb7w\n",
      "query =  <class 'str'>\n",
      "NUMBER OF AVALIABLE PATIENTS === 126\n",
      "patientID ====== 88\n",
      "PATH- https://drive.google.com/uc?export=download&id=1hYqviE6dQ1k6vIrKmdbER3KIFlWKmOR-\n",
      "query =  <class 'str'>\n",
      "NUMBER OF AVALIABLE PATIENTS === 126\n",
      "patientID ====== 90\n",
      "PATH- https://drive.google.com/uc?export=download&id=11Q6bDRSOESSEuxjmO8r06xRLlQmAJmGZ\n",
      "query =  <class 'str'>\n",
      "NUMBER OF AVALIABLE PATIENTS === 126\n",
      "patientID ====== 97\n",
      "PATH- https://drive.google.com/uc?export=download&id=1B85LaAvxLHSL68MTZljO2bqrZLoSRssF\n",
      "query =  <class 'str'>\n",
      "NUMBER OF AVALIABLE PATIENTS === 126\n",
      "patientID ====== 103\n",
      "PATH- https://drive.google.com/uc?export=download&id=1rRTagIMtj85NBo-RBvBDiZwcb52VzLT9\n",
      "query =  <class 'str'>\n",
      "NUMBER OF AVALIABLE PATIENTS === 126\n",
      "patientID ====== 104\n",
      "PATH- https://drive.google.com/uc?export=download&id=1dGcvIsnEQaIJD85SqaeQNuyiWdgRIWUR\n",
      "query =  <class 'str'>\n",
      "NUMBER OF AVALIABLE PATIENTS === 126\n",
      "patientID ====== 106\n",
      "PATH- https://drive.google.com/uc?export=download&id=1q7eWL4_gYRTmY2Z9LRsKKk-NKeOYvRnE\n",
      "query =  <class 'str'>\n",
      "NUMBER OF AVALIABLE PATIENTS === 126\n",
      "patientID ====== 111\n",
      "PATH- https://drive.google.com/uc?export=download&id=1oJ5dz5J_aUCeHRB2IW9DwflhfGndgnat\n",
      "query =  <class 'str'>\n",
      "NUMBER OF AVALIABLE PATIENTS === 126\n",
      "patientID ====== 113\n",
      "PATH- https://drive.google.com/uc?export=download&id=1DTLHKBHYxQ3DAId-ODn4XoN1hX-FkVF5\n",
      "query =  <class 'str'>\n",
      "NUMBER OF AVALIABLE PATIENTS === 126\n",
      "patientID ====== 118\n",
      "PATH- https://drive.google.com/uc?export=download&id=1YIRxaKWz02W_xUpjijtLoL-6I2xAYgFD\n",
      "query =  <class 'str'>\n",
      "NUMBER OF AVALIABLE PATIENTS === 126\n",
      "patientID ====== 128\n",
      "PATH- https://drive.google.com/uc?export=download&id=1wAJpHQi04MEY_5UkHf93RIb0kUJLRdDC\n",
      "query =  <class 'str'>\n",
      "NUMBER OF AVALIABLE PATIENTS === 126\n",
      "patientID ====== 129\n",
      "PATH- https://drive.google.com/uc?export=download&id=1RuHhG_bWf1l1UCJlgyDHPbF0wTKarsGk\n",
      "query =  <class 'str'>\n",
      "NUMBER OF AVALIABLE PATIENTS === 126\n",
      "patientID ====== 131\n",
      "PATH- https://drive.google.com/uc?export=download&id=1Psa8tDDz3SJgPeTOBITGj1AX2Efz-GpM\n",
      "query =  <class 'str'>\n",
      "NUMBER OF AVALIABLE PATIENTS === 126\n",
      "patientID ====== 134\n",
      "PATH- https://drive.google.com/uc?export=download&id=15SCS0OlpDMuglHo2Ah0C9OS1HPkysvJw\n",
      "query =  <class 'str'>\n",
      "NUMBER OF AVALIABLE PATIENTS === 126\n",
      "patientID ====== 135\n",
      "PATH- https://drive.google.com/uc?export=download&id=1QEr728hiiALmhJEQGlucR7TtdOxuzXNY\n",
      "query =  <class 'str'>\n",
      "NUMBER OF AVALIABLE PATIENTS === 126\n",
      "patientID ====== 136\n",
      "PATH- https://drive.google.com/uc?export=download&id=1xuUmTGHXOJzKA56ruSfc3VYA6t75kL7y\n"
     ]
    },
    {
     "name": "stdout",
     "output_type": "stream",
     "text": [
      "query =  <class 'str'>\n",
      "NUMBER OF AVALIABLE PATIENTS === 126\n",
      "patientID ====== 139\n",
      "PATH- https://drive.google.com/uc?export=download&id=1DEtAkQhuYOlbq-1KvUO0dBUxqrHBAimB\n",
      "query =  <class 'str'>\n",
      "NUMBER OF AVALIABLE PATIENTS === 126\n",
      "patientID ====== 145\n",
      "PATH- https://drive.google.com/uc?export=download&id=1RnFGmXLBM1MNSLUbWetFEXaZZPeFoEN0\n",
      "query =  <class 'str'>\n",
      "NUMBER OF AVALIABLE PATIENTS === 126\n",
      "patientID ====== 146\n",
      "PATH- https://drive.google.com/uc?export=download&id=1F8e5YJSlHHl-3Kkpm-twDgwS3uu-5Fel\n",
      "query =  <class 'str'>\n",
      "NUMBER OF AVALIABLE PATIENTS === 126\n",
      "patientID ====== 148\n",
      "PATH- https://drive.google.com/uc?export=download&id=1Ksd1VJroyMLdxM6ftx9DPcsc7xRREHXb\n",
      "query =  <class 'str'>\n",
      "NUMBER OF AVALIABLE PATIENTS === 126\n",
      "patientID ====== 310\n",
      "PATH- https://drive.google.com/uc?export=download&id=1MQ_kxqa9utzSmsn5PzPxrnhfmk56Riyt\n",
      "query =  <class 'str'>\n",
      "NUMBER OF AVALIABLE PATIENTS === 126\n",
      "patientID ====== 419\n",
      "PATH- https://drive.google.com/uc?export=download&id=1zgdkC_eJZ2IhbQ1wjQ9C5Ylrw_p3VKxp\n",
      "query =  <class 'str'>\n",
      "NUMBER OF AVALIABLE PATIENTS === 126\n",
      "patientID ====== 584\n",
      "PATH- https://drive.google.com/uc?export=download&id=1yXa3cZF8PGQt2blnHvIo7xtH4ZD4PzIG\n",
      "query =  <class 'str'>\n",
      "NUMBER OF AVALIABLE PATIENTS === 126\n",
      "patientID ====== 727\n",
      "PATH- https://drive.google.com/uc?export=download&id=1TmxaOfkKJDo68WllzziOT3quVs2PYkd5\n",
      "query =  <class 'str'>\n",
      "NUMBER OF AVALIABLE PATIENTS === 126\n",
      "patientID ====== 807\n",
      "PATH- https://drive.google.com/uc?export=download&id=1PqrD5dP5muV-jrURlz7YFaHCxXTTdLO6\n"
     ]
    }
   ],
   "source": [
    "pid = []\n",
    "dates_unique = []\n",
    "num_duplicates = []\n",
    "total_original = []\n",
    "for i in pid_pist_above_10_days:\n",
    "    df = gd_json_read(seperate_Data_folder_id,i)\n",
    "    # Quey the datafrme by date.\n",
    "    for each_date in df[\"Date\"].unique():\n",
    "        df_by_date = df[df[\"Date\"]==each_date]\n",
    "        count_duplicates =  df_by_date.Time.duplicated().sum()\n",
    "        num_duplicates.append(count_duplicates)\n",
    "        total_original.append(df_by_date.shape[0])\n",
    "        pid.append(i)\n",
    "        dates_unique.append(each_date)\n",
    "    #print(df.head())\n",
    "    # Check for deuplicate timestamps.\n",
    "    \n",
    "    "
   ]
  },
  {
   "cell_type": "code",
   "execution_count": 46,
   "metadata": {},
   "outputs": [
    {
     "name": "stdout",
     "output_type": "stream",
     "text": [
      "835 835 835 835\n"
     ]
    }
   ],
   "source": [
    "\n",
    "print(len(pid),len(dates_unique),len(num_duplicates),len(total_original))"
   ]
  },
  {
   "cell_type": "code",
   "execution_count": 47,
   "metadata": {},
   "outputs": [],
   "source": [
    "\n",
    "df_duplicates_analysis = pd.DataFrame({\n",
    "    \"pid\":pid,\n",
    "    \"dates_unique\":dates_unique,\n",
    "    \"num_duplicates\":num_duplicates,\n",
    "    \"total_original\":total_original\n",
    "})\n",
    "\n"
   ]
  },
  {
   "cell_type": "code",
   "execution_count": 50,
   "metadata": {},
   "outputs": [],
   "source": [
    "# df_duplicates_analysis.to_csv(\"/Users/shehjarsadhu/Desktop/UniversityOfRhodeIsland/Graduate/WBL/My_Thesis/chase_conference/duplicates_ts.csv\")\n"
   ]
  },
  {
   "cell_type": "code",
   "execution_count": 51,
   "metadata": {},
   "outputs": [],
   "source": [
    "df_duplicate_ts = pd.read_csv(\"/Users/shehjarsadhu/Desktop/UniversityOfRhodeIsland/Graduate/WBL/My_Thesis/chase_conference/duplicates_ts.csv\")\n",
    "\n"
   ]
  },
  {
   "cell_type": "code",
   "execution_count": 72,
   "metadata": {},
   "outputs": [
    {
     "name": "stdout",
     "output_type": "stream",
     "text": [
      "pid 22\n",
      "percentage_duplicates 56.27197109820338\n",
      "pid 23\n",
      "percentage_duplicates 0.0\n",
      "pid 24\n",
      "percentage_duplicates 1.0445356385544553\n",
      "pid 25\n",
      "percentage_duplicates 23.96531018147123\n",
      "pid 26\n",
      "percentage_duplicates 0.9949522070669101\n",
      "pid 27\n",
      "percentage_duplicates 0.0\n",
      "pid 28\n",
      "percentage_duplicates 0.0\n",
      "pid 29\n",
      "percentage_duplicates 0.0\n",
      "pid 30\n",
      "percentage_duplicates 0.0\n",
      "pid 31\n",
      "percentage_duplicates 2.076387582906392\n",
      "pid 33\n",
      "percentage_duplicates 22.432938634641825\n",
      "pid 34\n",
      "percentage_duplicates 0.0\n",
      "pid 35\n",
      "percentage_duplicates 0.0\n",
      "pid 36\n",
      "percentage_duplicates 0.0\n",
      "pid 38\n",
      "percentage_duplicates 0.0\n",
      "pid 40\n",
      "percentage_duplicates 1.68031697712063\n",
      "pid 42\n",
      "percentage_duplicates 0.0\n",
      "pid 44\n",
      "percentage_duplicates 1.6891435192635746\n",
      "pid 45\n",
      "percentage_duplicates 0.0\n",
      "pid 50\n",
      "percentage_duplicates 1.1482254697286012\n",
      "pid 51\n",
      "percentage_duplicates 0.5748808544242632\n",
      "pid 52\n",
      "percentage_duplicates 0.6230421027767775\n",
      "pid 53\n",
      "percentage_duplicates 1.9051029301480276\n",
      "pid 54\n",
      "percentage_duplicates 1.0898107061541273\n",
      "pid 56\n",
      "percentage_duplicates 1.6038029531782423\n",
      "pid 58\n",
      "percentage_duplicates 0.0\n",
      "pid 68\n",
      "percentage_duplicates 0.0\n",
      "pid 71\n",
      "percentage_duplicates 0.0\n",
      "pid 72\n",
      "percentage_duplicates 0.0\n",
      "pid 74\n",
      "percentage_duplicates 0.45509126498922586\n",
      "pid 75\n",
      "percentage_duplicates 0.5159307779395116\n",
      "pid 78\n",
      "percentage_duplicates 0.0\n",
      "pid 80\n",
      "percentage_duplicates 21.165962508716518\n",
      "pid 83\n",
      "percentage_duplicates 1.017338713948291\n",
      "pid 88\n",
      "percentage_duplicates 1.7389153126695822\n",
      "pid 90\n",
      "percentage_duplicates 1.102129402514983\n",
      "pid 97\n",
      "percentage_duplicates 0.0\n",
      "pid 103\n",
      "percentage_duplicates 6.406684023049857\n",
      "pid 104\n",
      "percentage_duplicates 0.0\n",
      "pid 106\n",
      "percentage_duplicates 0.0\n",
      "pid 111\n",
      "percentage_duplicates 0.0\n",
      "pid 113\n",
      "percentage_duplicates 0.0\n",
      "pid 118\n",
      "percentage_duplicates 0.0\n",
      "pid 128\n",
      "percentage_duplicates 0.0\n",
      "pid 129\n",
      "percentage_duplicates 0.8104850085921671\n",
      "pid 131\n",
      "percentage_duplicates 0.0004642029866820163\n",
      "pid 134\n",
      "percentage_duplicates 0.3117889946911604\n",
      "pid 135\n",
      "percentage_duplicates 0.5947149085407183\n",
      "pid 136\n",
      "percentage_duplicates 0.0\n",
      "pid 139\n",
      "percentage_duplicates 3.1562243681979627\n",
      "pid 145\n",
      "percentage_duplicates 0.06774089662294973\n",
      "pid 146\n",
      "percentage_duplicates 4.412623708673376\n",
      "pid 148\n",
      "percentage_duplicates 0.0\n",
      "pid 310\n",
      "percentage_duplicates 0.0\n",
      "pid 419\n",
      "percentage_duplicates 0.2621664400205096\n",
      "pid 584\n",
      "percentage_duplicates 0.0\n",
      "pid 727\n",
      "percentage_duplicates 0.0\n",
      "pid 807\n",
      "percentage_duplicates 21.165962508716518\n"
     ]
    }
   ],
   "source": [
    "# Find out the percentage of duplicates fro each participant ID.\n",
    "pid_uniq = []\n",
    "percentage_unique = []\n",
    "for i in pid_pist_above_10_days:\n",
    "    print(\"pid\",i)\n",
    "    df_duplicate  =df_duplicate_ts[df_duplicate_ts[\"pid\"]==i]\n",
    "    duplicates_total = df_duplicate[\"num_duplicates\"].sum()\n",
    "    total = df_duplicate[\"total_original\"].sum()\n",
    "    percentage_duplicates = (duplicates_total/total)*100\n",
    "    print(\"percentage_duplicates\", percentage_duplicates)\n",
    "    percentage_unique.append(percentage_duplicates) \n",
    "    "
   ]
  },
  {
   "cell_type": "code",
   "execution_count": 77,
   "metadata": {},
   "outputs": [],
   "source": [
    "P = \"/Users/shehjarsadhu/Desktop/UniversityOfRhodeIsland/Graduate/WBL/My_Thesis/chase_conference/DUPLICATE_TS_BY_PID.csv\"\n",
    "df_duplicate_pid = pd.DataFrame({\n",
    "    \"pid_pist_above_10_days\":pid_pist_above_10_days,\n",
    "    \"percentage_duplicates\":percentage_unique\n",
    "})\n",
    "                                "
   ]
  },
  {
   "cell_type": "code",
   "execution_count": 128,
   "metadata": {},
   "outputs": [
    {
     "data": {
      "text/plain": [
       "3.1083559292501457"
      ]
     },
     "execution_count": 128,
     "metadata": {},
     "output_type": "execute_result"
    }
   ],
   "source": [
    "# df_duplicate_pid.to_csv(P,index=0)\n",
    "df_duplicate_pid[\"percentage_duplicates\"].mean()"
   ]
  },
  {
   "cell_type": "code",
   "execution_count": null,
   "metadata": {},
   "outputs": [],
   "source": []
  },
  {
   "cell_type": "code",
   "execution_count": 154,
   "metadata": {},
   "outputs": [],
   "source": []
  },
  {
   "cell_type": "code",
   "execution_count": 186,
   "metadata": {},
   "outputs": [],
   "source": [
    "# Sort the full df by percentages.\n",
    "df_duplicate_pid_sorted = df_duplicate_pid.sort_values(\"percentage_duplicates\",ascending=False)\n",
    "df_duplicate_pid_str = df_duplicate_pid_sorted[\"pid_pist_above_10_days\"].map(str)\n"
   ]
  },
  {
   "cell_type": "code",
   "execution_count": null,
   "metadata": {},
   "outputs": [],
   "source": []
  },
  {
   "cell_type": "code",
   "execution_count": 192,
   "metadata": {},
   "outputs": [
    {
     "data": {
      "application/vnd.plotly.v1+json": {
       "config": {
        "plotlyServerURL": "https://plot.ly"
       },
       "data": [
        {
         "alignmentgroup": "True",
         "hovertemplate": "x=%{x}<br>percentage_duplicates=%{y}<extra></extra>",
         "legendgroup": "",
         "marker": {
          "color": "rgb(24, 128, 139)",
          "line": {
           "color": "rgb(8,48,107)"
          },
          "pattern": {
           "shape": ""
          }
         },
         "name": "",
         "offsetgroup": "",
         "orientation": "v",
         "showlegend": false,
         "textposition": "auto",
         "type": "bar",
         "x": [
          "22",
          "25",
          "33",
          "80",
          "807",
          "103",
          "146",
          "139",
          "31",
          "53",
          "88",
          "44",
          "40",
          "56",
          "50",
          "90",
          "54",
          "24",
          "83",
          "26",
          "129",
          "52",
          "135",
          "51",
          "75",
          "74",
          "134",
          "419",
          "145",
          "131",
          "136",
          "111",
          "128",
          "148",
          "310",
          "584",
          "118",
          "727",
          "113",
          "27",
          "106",
          "104",
          "29",
          "30",
          "34",
          "35",
          "36",
          "38",
          "42",
          "45",
          "58",
          "68",
          "71",
          "72",
          "23",
          "28",
          "97",
          "78"
         ],
         "xaxis": "x",
         "y": [
          56.27197109820338,
          23.96531018147123,
          22.432938634641825,
          21.165962508716518,
          21.165962508716518,
          6.406684023049857,
          4.412623708673376,
          3.1562243681979627,
          2.076387582906392,
          1.9051029301480276,
          1.7389153126695822,
          1.6891435192635746,
          1.68031697712063,
          1.6038029531782423,
          1.1482254697286012,
          1.102129402514983,
          1.0898107061541273,
          1.0445356385544553,
          1.017338713948291,
          0.9949522070669101,
          0.8104850085921671,
          0.6230421027767775,
          0.5947149085407183,
          0.5748808544242632,
          0.5159307779395116,
          0.45509126498922586,
          0.3117889946911604,
          0.2621664400205096,
          0.06774089662294973,
          0.0004642029866820163,
          0,
          0,
          0,
          0,
          0,
          0,
          0,
          0,
          0,
          0,
          0,
          0,
          0,
          0,
          0,
          0,
          0,
          0,
          0,
          0,
          0,
          0,
          0,
          0,
          0,
          0,
          0,
          0
         ],
         "yaxis": "y"
        }
       ],
       "layout": {
        "barmode": "relative",
        "font": {
         "color": "black",
         "family": "IBM Plex San",
         "size": 20
        },
        "legend": {
         "tracegroupgap": 0
        },
        "margin": {
         "t": 60
        },
        "template": {
         "data": {
          "bar": [
           {
            "error_x": {
             "color": "#2a3f5f"
            },
            "error_y": {
             "color": "#2a3f5f"
            },
            "marker": {
             "line": {
              "color": "white",
              "width": 0.5
             },
             "pattern": {
              "fillmode": "overlay",
              "size": 10,
              "solidity": 0.2
             }
            },
            "type": "bar"
           }
          ],
          "barpolar": [
           {
            "marker": {
             "line": {
              "color": "white",
              "width": 0.5
             },
             "pattern": {
              "fillmode": "overlay",
              "size": 10,
              "solidity": 0.2
             }
            },
            "type": "barpolar"
           }
          ],
          "carpet": [
           {
            "aaxis": {
             "endlinecolor": "#2a3f5f",
             "gridcolor": "#C8D4E3",
             "linecolor": "#C8D4E3",
             "minorgridcolor": "#C8D4E3",
             "startlinecolor": "#2a3f5f"
            },
            "baxis": {
             "endlinecolor": "#2a3f5f",
             "gridcolor": "#C8D4E3",
             "linecolor": "#C8D4E3",
             "minorgridcolor": "#C8D4E3",
             "startlinecolor": "#2a3f5f"
            },
            "type": "carpet"
           }
          ],
          "choropleth": [
           {
            "colorbar": {
             "outlinewidth": 0,
             "ticks": ""
            },
            "type": "choropleth"
           }
          ],
          "contour": [
           {
            "colorbar": {
             "outlinewidth": 0,
             "ticks": ""
            },
            "colorscale": [
             [
              0,
              "#0d0887"
             ],
             [
              0.1111111111111111,
              "#46039f"
             ],
             [
              0.2222222222222222,
              "#7201a8"
             ],
             [
              0.3333333333333333,
              "#9c179e"
             ],
             [
              0.4444444444444444,
              "#bd3786"
             ],
             [
              0.5555555555555556,
              "#d8576b"
             ],
             [
              0.6666666666666666,
              "#ed7953"
             ],
             [
              0.7777777777777778,
              "#fb9f3a"
             ],
             [
              0.8888888888888888,
              "#fdca26"
             ],
             [
              1,
              "#f0f921"
             ]
            ],
            "type": "contour"
           }
          ],
          "contourcarpet": [
           {
            "colorbar": {
             "outlinewidth": 0,
             "ticks": ""
            },
            "type": "contourcarpet"
           }
          ],
          "heatmap": [
           {
            "colorbar": {
             "outlinewidth": 0,
             "ticks": ""
            },
            "colorscale": [
             [
              0,
              "#0d0887"
             ],
             [
              0.1111111111111111,
              "#46039f"
             ],
             [
              0.2222222222222222,
              "#7201a8"
             ],
             [
              0.3333333333333333,
              "#9c179e"
             ],
             [
              0.4444444444444444,
              "#bd3786"
             ],
             [
              0.5555555555555556,
              "#d8576b"
             ],
             [
              0.6666666666666666,
              "#ed7953"
             ],
             [
              0.7777777777777778,
              "#fb9f3a"
             ],
             [
              0.8888888888888888,
              "#fdca26"
             ],
             [
              1,
              "#f0f921"
             ]
            ],
            "type": "heatmap"
           }
          ],
          "heatmapgl": [
           {
            "colorbar": {
             "outlinewidth": 0,
             "ticks": ""
            },
            "colorscale": [
             [
              0,
              "#0d0887"
             ],
             [
              0.1111111111111111,
              "#46039f"
             ],
             [
              0.2222222222222222,
              "#7201a8"
             ],
             [
              0.3333333333333333,
              "#9c179e"
             ],
             [
              0.4444444444444444,
              "#bd3786"
             ],
             [
              0.5555555555555556,
              "#d8576b"
             ],
             [
              0.6666666666666666,
              "#ed7953"
             ],
             [
              0.7777777777777778,
              "#fb9f3a"
             ],
             [
              0.8888888888888888,
              "#fdca26"
             ],
             [
              1,
              "#f0f921"
             ]
            ],
            "type": "heatmapgl"
           }
          ],
          "histogram": [
           {
            "marker": {
             "pattern": {
              "fillmode": "overlay",
              "size": 10,
              "solidity": 0.2
             }
            },
            "type": "histogram"
           }
          ],
          "histogram2d": [
           {
            "colorbar": {
             "outlinewidth": 0,
             "ticks": ""
            },
            "colorscale": [
             [
              0,
              "#0d0887"
             ],
             [
              0.1111111111111111,
              "#46039f"
             ],
             [
              0.2222222222222222,
              "#7201a8"
             ],
             [
              0.3333333333333333,
              "#9c179e"
             ],
             [
              0.4444444444444444,
              "#bd3786"
             ],
             [
              0.5555555555555556,
              "#d8576b"
             ],
             [
              0.6666666666666666,
              "#ed7953"
             ],
             [
              0.7777777777777778,
              "#fb9f3a"
             ],
             [
              0.8888888888888888,
              "#fdca26"
             ],
             [
              1,
              "#f0f921"
             ]
            ],
            "type": "histogram2d"
           }
          ],
          "histogram2dcontour": [
           {
            "colorbar": {
             "outlinewidth": 0,
             "ticks": ""
            },
            "colorscale": [
             [
              0,
              "#0d0887"
             ],
             [
              0.1111111111111111,
              "#46039f"
             ],
             [
              0.2222222222222222,
              "#7201a8"
             ],
             [
              0.3333333333333333,
              "#9c179e"
             ],
             [
              0.4444444444444444,
              "#bd3786"
             ],
             [
              0.5555555555555556,
              "#d8576b"
             ],
             [
              0.6666666666666666,
              "#ed7953"
             ],
             [
              0.7777777777777778,
              "#fb9f3a"
             ],
             [
              0.8888888888888888,
              "#fdca26"
             ],
             [
              1,
              "#f0f921"
             ]
            ],
            "type": "histogram2dcontour"
           }
          ],
          "mesh3d": [
           {
            "colorbar": {
             "outlinewidth": 0,
             "ticks": ""
            },
            "type": "mesh3d"
           }
          ],
          "parcoords": [
           {
            "line": {
             "colorbar": {
              "outlinewidth": 0,
              "ticks": ""
             }
            },
            "type": "parcoords"
           }
          ],
          "pie": [
           {
            "automargin": true,
            "type": "pie"
           }
          ],
          "scatter": [
           {
            "fillpattern": {
             "fillmode": "overlay",
             "size": 10,
             "solidity": 0.2
            },
            "type": "scatter"
           }
          ],
          "scatter3d": [
           {
            "line": {
             "colorbar": {
              "outlinewidth": 0,
              "ticks": ""
             }
            },
            "marker": {
             "colorbar": {
              "outlinewidth": 0,
              "ticks": ""
             }
            },
            "type": "scatter3d"
           }
          ],
          "scattercarpet": [
           {
            "marker": {
             "colorbar": {
              "outlinewidth": 0,
              "ticks": ""
             }
            },
            "type": "scattercarpet"
           }
          ],
          "scattergeo": [
           {
            "marker": {
             "colorbar": {
              "outlinewidth": 0,
              "ticks": ""
             }
            },
            "type": "scattergeo"
           }
          ],
          "scattergl": [
           {
            "marker": {
             "colorbar": {
              "outlinewidth": 0,
              "ticks": ""
             }
            },
            "type": "scattergl"
           }
          ],
          "scattermapbox": [
           {
            "marker": {
             "colorbar": {
              "outlinewidth": 0,
              "ticks": ""
             }
            },
            "type": "scattermapbox"
           }
          ],
          "scatterpolar": [
           {
            "marker": {
             "colorbar": {
              "outlinewidth": 0,
              "ticks": ""
             }
            },
            "type": "scatterpolar"
           }
          ],
          "scatterpolargl": [
           {
            "marker": {
             "colorbar": {
              "outlinewidth": 0,
              "ticks": ""
             }
            },
            "type": "scatterpolargl"
           }
          ],
          "scatterternary": [
           {
            "marker": {
             "colorbar": {
              "outlinewidth": 0,
              "ticks": ""
             }
            },
            "type": "scatterternary"
           }
          ],
          "surface": [
           {
            "colorbar": {
             "outlinewidth": 0,
             "ticks": ""
            },
            "colorscale": [
             [
              0,
              "#0d0887"
             ],
             [
              0.1111111111111111,
              "#46039f"
             ],
             [
              0.2222222222222222,
              "#7201a8"
             ],
             [
              0.3333333333333333,
              "#9c179e"
             ],
             [
              0.4444444444444444,
              "#bd3786"
             ],
             [
              0.5555555555555556,
              "#d8576b"
             ],
             [
              0.6666666666666666,
              "#ed7953"
             ],
             [
              0.7777777777777778,
              "#fb9f3a"
             ],
             [
              0.8888888888888888,
              "#fdca26"
             ],
             [
              1,
              "#f0f921"
             ]
            ],
            "type": "surface"
           }
          ],
          "table": [
           {
            "cells": {
             "fill": {
              "color": "#EBF0F8"
             },
             "line": {
              "color": "white"
             }
            },
            "header": {
             "fill": {
              "color": "#C8D4E3"
             },
             "line": {
              "color": "white"
             }
            },
            "type": "table"
           }
          ]
         },
         "layout": {
          "annotationdefaults": {
           "arrowcolor": "#2a3f5f",
           "arrowhead": 0,
           "arrowwidth": 1
          },
          "autotypenumbers": "strict",
          "coloraxis": {
           "colorbar": {
            "outlinewidth": 0,
            "ticks": ""
           }
          },
          "colorscale": {
           "diverging": [
            [
             0,
             "#8e0152"
            ],
            [
             0.1,
             "#c51b7d"
            ],
            [
             0.2,
             "#de77ae"
            ],
            [
             0.3,
             "#f1b6da"
            ],
            [
             0.4,
             "#fde0ef"
            ],
            [
             0.5,
             "#f7f7f7"
            ],
            [
             0.6,
             "#e6f5d0"
            ],
            [
             0.7,
             "#b8e186"
            ],
            [
             0.8,
             "#7fbc41"
            ],
            [
             0.9,
             "#4d9221"
            ],
            [
             1,
             "#276419"
            ]
           ],
           "sequential": [
            [
             0,
             "#0d0887"
            ],
            [
             0.1111111111111111,
             "#46039f"
            ],
            [
             0.2222222222222222,
             "#7201a8"
            ],
            [
             0.3333333333333333,
             "#9c179e"
            ],
            [
             0.4444444444444444,
             "#bd3786"
            ],
            [
             0.5555555555555556,
             "#d8576b"
            ],
            [
             0.6666666666666666,
             "#ed7953"
            ],
            [
             0.7777777777777778,
             "#fb9f3a"
            ],
            [
             0.8888888888888888,
             "#fdca26"
            ],
            [
             1,
             "#f0f921"
            ]
           ],
           "sequentialminus": [
            [
             0,
             "#0d0887"
            ],
            [
             0.1111111111111111,
             "#46039f"
            ],
            [
             0.2222222222222222,
             "#7201a8"
            ],
            [
             0.3333333333333333,
             "#9c179e"
            ],
            [
             0.4444444444444444,
             "#bd3786"
            ],
            [
             0.5555555555555556,
             "#d8576b"
            ],
            [
             0.6666666666666666,
             "#ed7953"
            ],
            [
             0.7777777777777778,
             "#fb9f3a"
            ],
            [
             0.8888888888888888,
             "#fdca26"
            ],
            [
             1,
             "#f0f921"
            ]
           ]
          },
          "colorway": [
           "#636efa",
           "#EF553B",
           "#00cc96",
           "#ab63fa",
           "#FFA15A",
           "#19d3f3",
           "#FF6692",
           "#B6E880",
           "#FF97FF",
           "#FECB52"
          ],
          "font": {
           "color": "#2a3f5f"
          },
          "geo": {
           "bgcolor": "white",
           "lakecolor": "white",
           "landcolor": "white",
           "showlakes": true,
           "showland": true,
           "subunitcolor": "#C8D4E3"
          },
          "hoverlabel": {
           "align": "left"
          },
          "hovermode": "closest",
          "mapbox": {
           "style": "light"
          },
          "paper_bgcolor": "white",
          "plot_bgcolor": "white",
          "polar": {
           "angularaxis": {
            "gridcolor": "#EBF0F8",
            "linecolor": "#EBF0F8",
            "ticks": ""
           },
           "bgcolor": "white",
           "radialaxis": {
            "gridcolor": "#EBF0F8",
            "linecolor": "#EBF0F8",
            "ticks": ""
           }
          },
          "scene": {
           "xaxis": {
            "backgroundcolor": "white",
            "gridcolor": "#DFE8F3",
            "gridwidth": 2,
            "linecolor": "#EBF0F8",
            "showbackground": true,
            "ticks": "",
            "zerolinecolor": "#EBF0F8"
           },
           "yaxis": {
            "backgroundcolor": "white",
            "gridcolor": "#DFE8F3",
            "gridwidth": 2,
            "linecolor": "#EBF0F8",
            "showbackground": true,
            "ticks": "",
            "zerolinecolor": "#EBF0F8"
           },
           "zaxis": {
            "backgroundcolor": "white",
            "gridcolor": "#DFE8F3",
            "gridwidth": 2,
            "linecolor": "#EBF0F8",
            "showbackground": true,
            "ticks": "",
            "zerolinecolor": "#EBF0F8"
           }
          },
          "shapedefaults": {
           "line": {
            "color": "#2a3f5f"
           }
          },
          "ternary": {
           "aaxis": {
            "gridcolor": "#DFE8F3",
            "linecolor": "#A2B1C6",
            "ticks": ""
           },
           "baxis": {
            "gridcolor": "#DFE8F3",
            "linecolor": "#A2B1C6",
            "ticks": ""
           },
           "bgcolor": "white",
           "caxis": {
            "gridcolor": "#DFE8F3",
            "linecolor": "#A2B1C6",
            "ticks": ""
           }
          },
          "title": {
           "x": 0.05
          },
          "xaxis": {
           "automargin": true,
           "gridcolor": "#EBF0F8",
           "linecolor": "#EBF0F8",
           "ticks": "",
           "title": {
            "standoff": 15
           },
           "zerolinecolor": "#EBF0F8",
           "zerolinewidth": 2
          },
          "yaxis": {
           "automargin": true,
           "gridcolor": "#EBF0F8",
           "linecolor": "#EBF0F8",
           "ticks": "",
           "title": {
            "standoff": 15
           },
           "zerolinecolor": "#EBF0F8",
           "zerolinewidth": 2
          }
         }
        },
        "title": {
         "text": "Percentage of Duplicate Data for Each Participant"
        },
        "xaxis": {
         "anchor": "y",
         "domain": [
          0,
          1
         ],
         "showline": true,
         "title": {
          "text": "Participant ID"
         }
        },
        "yaxis": {
         "anchor": "x",
         "domain": [
          0,
          1
         ],
         "showline": true,
         "title": {
          "text": "Percentage (%) of Duplicates"
         }
        }
       }
      },
      "text/html": [
       "<div>                            <div id=\"8704f3e7-c29a-4eb9-adb8-7cf7a0ebc5e0\" class=\"plotly-graph-div\" style=\"height:525px; width:100%;\"></div>            <script type=\"text/javascript\">                require([\"plotly\"], function(Plotly) {                    window.PLOTLYENV=window.PLOTLYENV || {};                                    if (document.getElementById(\"8704f3e7-c29a-4eb9-adb8-7cf7a0ebc5e0\")) {                    Plotly.newPlot(                        \"8704f3e7-c29a-4eb9-adb8-7cf7a0ebc5e0\",                        [{\"alignmentgroup\":\"True\",\"hovertemplate\":\"x=%{x}<br>percentage_duplicates=%{y}<extra></extra>\",\"legendgroup\":\"\",\"marker\":{\"color\":\"rgb(24, 128, 139)\",\"pattern\":{\"shape\":\"\"},\"line\":{\"color\":\"rgb(8,48,107)\"}},\"name\":\"\",\"offsetgroup\":\"\",\"orientation\":\"v\",\"showlegend\":false,\"textposition\":\"auto\",\"x\":[\"22\",\"25\",\"33\",\"80\",\"807\",\"103\",\"146\",\"139\",\"31\",\"53\",\"88\",\"44\",\"40\",\"56\",\"50\",\"90\",\"54\",\"24\",\"83\",\"26\",\"129\",\"52\",\"135\",\"51\",\"75\",\"74\",\"134\",\"419\",\"145\",\"131\",\"136\",\"111\",\"128\",\"148\",\"310\",\"584\",\"118\",\"727\",\"113\",\"27\",\"106\",\"104\",\"29\",\"30\",\"34\",\"35\",\"36\",\"38\",\"42\",\"45\",\"58\",\"68\",\"71\",\"72\",\"23\",\"28\",\"97\",\"78\"],\"xaxis\":\"x\",\"y\":[56.27197109820338,23.96531018147123,22.432938634641825,21.165962508716518,21.165962508716518,6.406684023049857,4.412623708673376,3.1562243681979627,2.076387582906392,1.9051029301480276,1.7389153126695822,1.6891435192635746,1.68031697712063,1.6038029531782423,1.1482254697286012,1.102129402514983,1.0898107061541273,1.0445356385544553,1.017338713948291,0.9949522070669101,0.8104850085921671,0.6230421027767775,0.5947149085407183,0.5748808544242632,0.5159307779395116,0.45509126498922586,0.3117889946911604,0.2621664400205096,0.06774089662294973,0.0004642029866820163,0.0,0.0,0.0,0.0,0.0,0.0,0.0,0.0,0.0,0.0,0.0,0.0,0.0,0.0,0.0,0.0,0.0,0.0,0.0,0.0,0.0,0.0,0.0,0.0,0.0,0.0,0.0,0.0],\"yaxis\":\"y\",\"type\":\"bar\"}],                        {\"template\":{\"data\":{\"histogram2dcontour\":[{\"type\":\"histogram2dcontour\",\"colorbar\":{\"outlinewidth\":0,\"ticks\":\"\"},\"colorscale\":[[0.0,\"#0d0887\"],[0.1111111111111111,\"#46039f\"],[0.2222222222222222,\"#7201a8\"],[0.3333333333333333,\"#9c179e\"],[0.4444444444444444,\"#bd3786\"],[0.5555555555555556,\"#d8576b\"],[0.6666666666666666,\"#ed7953\"],[0.7777777777777778,\"#fb9f3a\"],[0.8888888888888888,\"#fdca26\"],[1.0,\"#f0f921\"]]}],\"choropleth\":[{\"type\":\"choropleth\",\"colorbar\":{\"outlinewidth\":0,\"ticks\":\"\"}}],\"histogram2d\":[{\"type\":\"histogram2d\",\"colorbar\":{\"outlinewidth\":0,\"ticks\":\"\"},\"colorscale\":[[0.0,\"#0d0887\"],[0.1111111111111111,\"#46039f\"],[0.2222222222222222,\"#7201a8\"],[0.3333333333333333,\"#9c179e\"],[0.4444444444444444,\"#bd3786\"],[0.5555555555555556,\"#d8576b\"],[0.6666666666666666,\"#ed7953\"],[0.7777777777777778,\"#fb9f3a\"],[0.8888888888888888,\"#fdca26\"],[1.0,\"#f0f921\"]]}],\"heatmap\":[{\"type\":\"heatmap\",\"colorbar\":{\"outlinewidth\":0,\"ticks\":\"\"},\"colorscale\":[[0.0,\"#0d0887\"],[0.1111111111111111,\"#46039f\"],[0.2222222222222222,\"#7201a8\"],[0.3333333333333333,\"#9c179e\"],[0.4444444444444444,\"#bd3786\"],[0.5555555555555556,\"#d8576b\"],[0.6666666666666666,\"#ed7953\"],[0.7777777777777778,\"#fb9f3a\"],[0.8888888888888888,\"#fdca26\"],[1.0,\"#f0f921\"]]}],\"heatmapgl\":[{\"type\":\"heatmapgl\",\"colorbar\":{\"outlinewidth\":0,\"ticks\":\"\"},\"colorscale\":[[0.0,\"#0d0887\"],[0.1111111111111111,\"#46039f\"],[0.2222222222222222,\"#7201a8\"],[0.3333333333333333,\"#9c179e\"],[0.4444444444444444,\"#bd3786\"],[0.5555555555555556,\"#d8576b\"],[0.6666666666666666,\"#ed7953\"],[0.7777777777777778,\"#fb9f3a\"],[0.8888888888888888,\"#fdca26\"],[1.0,\"#f0f921\"]]}],\"contourcarpet\":[{\"type\":\"contourcarpet\",\"colorbar\":{\"outlinewidth\":0,\"ticks\":\"\"}}],\"contour\":[{\"type\":\"contour\",\"colorbar\":{\"outlinewidth\":0,\"ticks\":\"\"},\"colorscale\":[[0.0,\"#0d0887\"],[0.1111111111111111,\"#46039f\"],[0.2222222222222222,\"#7201a8\"],[0.3333333333333333,\"#9c179e\"],[0.4444444444444444,\"#bd3786\"],[0.5555555555555556,\"#d8576b\"],[0.6666666666666666,\"#ed7953\"],[0.7777777777777778,\"#fb9f3a\"],[0.8888888888888888,\"#fdca26\"],[1.0,\"#f0f921\"]]}],\"surface\":[{\"type\":\"surface\",\"colorbar\":{\"outlinewidth\":0,\"ticks\":\"\"},\"colorscale\":[[0.0,\"#0d0887\"],[0.1111111111111111,\"#46039f\"],[0.2222222222222222,\"#7201a8\"],[0.3333333333333333,\"#9c179e\"],[0.4444444444444444,\"#bd3786\"],[0.5555555555555556,\"#d8576b\"],[0.6666666666666666,\"#ed7953\"],[0.7777777777777778,\"#fb9f3a\"],[0.8888888888888888,\"#fdca26\"],[1.0,\"#f0f921\"]]}],\"mesh3d\":[{\"type\":\"mesh3d\",\"colorbar\":{\"outlinewidth\":0,\"ticks\":\"\"}}],\"scatter\":[{\"fillpattern\":{\"fillmode\":\"overlay\",\"size\":10,\"solidity\":0.2},\"type\":\"scatter\"}],\"parcoords\":[{\"type\":\"parcoords\",\"line\":{\"colorbar\":{\"outlinewidth\":0,\"ticks\":\"\"}}}],\"scatterpolargl\":[{\"type\":\"scatterpolargl\",\"marker\":{\"colorbar\":{\"outlinewidth\":0,\"ticks\":\"\"}}}],\"bar\":[{\"error_x\":{\"color\":\"#2a3f5f\"},\"error_y\":{\"color\":\"#2a3f5f\"},\"marker\":{\"line\":{\"color\":\"white\",\"width\":0.5},\"pattern\":{\"fillmode\":\"overlay\",\"size\":10,\"solidity\":0.2}},\"type\":\"bar\"}],\"scattergeo\":[{\"type\":\"scattergeo\",\"marker\":{\"colorbar\":{\"outlinewidth\":0,\"ticks\":\"\"}}}],\"scatterpolar\":[{\"type\":\"scatterpolar\",\"marker\":{\"colorbar\":{\"outlinewidth\":0,\"ticks\":\"\"}}}],\"histogram\":[{\"marker\":{\"pattern\":{\"fillmode\":\"overlay\",\"size\":10,\"solidity\":0.2}},\"type\":\"histogram\"}],\"scattergl\":[{\"type\":\"scattergl\",\"marker\":{\"colorbar\":{\"outlinewidth\":0,\"ticks\":\"\"}}}],\"scatter3d\":[{\"type\":\"scatter3d\",\"line\":{\"colorbar\":{\"outlinewidth\":0,\"ticks\":\"\"}},\"marker\":{\"colorbar\":{\"outlinewidth\":0,\"ticks\":\"\"}}}],\"scattermapbox\":[{\"type\":\"scattermapbox\",\"marker\":{\"colorbar\":{\"outlinewidth\":0,\"ticks\":\"\"}}}],\"scatterternary\":[{\"type\":\"scatterternary\",\"marker\":{\"colorbar\":{\"outlinewidth\":0,\"ticks\":\"\"}}}],\"scattercarpet\":[{\"type\":\"scattercarpet\",\"marker\":{\"colorbar\":{\"outlinewidth\":0,\"ticks\":\"\"}}}],\"carpet\":[{\"aaxis\":{\"endlinecolor\":\"#2a3f5f\",\"gridcolor\":\"#C8D4E3\",\"linecolor\":\"#C8D4E3\",\"minorgridcolor\":\"#C8D4E3\",\"startlinecolor\":\"#2a3f5f\"},\"baxis\":{\"endlinecolor\":\"#2a3f5f\",\"gridcolor\":\"#C8D4E3\",\"linecolor\":\"#C8D4E3\",\"minorgridcolor\":\"#C8D4E3\",\"startlinecolor\":\"#2a3f5f\"},\"type\":\"carpet\"}],\"table\":[{\"cells\":{\"fill\":{\"color\":\"#EBF0F8\"},\"line\":{\"color\":\"white\"}},\"header\":{\"fill\":{\"color\":\"#C8D4E3\"},\"line\":{\"color\":\"white\"}},\"type\":\"table\"}],\"barpolar\":[{\"marker\":{\"line\":{\"color\":\"white\",\"width\":0.5},\"pattern\":{\"fillmode\":\"overlay\",\"size\":10,\"solidity\":0.2}},\"type\":\"barpolar\"}],\"pie\":[{\"automargin\":true,\"type\":\"pie\"}]},\"layout\":{\"autotypenumbers\":\"strict\",\"colorway\":[\"#636efa\",\"#EF553B\",\"#00cc96\",\"#ab63fa\",\"#FFA15A\",\"#19d3f3\",\"#FF6692\",\"#B6E880\",\"#FF97FF\",\"#FECB52\"],\"font\":{\"color\":\"#2a3f5f\"},\"hovermode\":\"closest\",\"hoverlabel\":{\"align\":\"left\"},\"paper_bgcolor\":\"white\",\"plot_bgcolor\":\"white\",\"polar\":{\"bgcolor\":\"white\",\"angularaxis\":{\"gridcolor\":\"#EBF0F8\",\"linecolor\":\"#EBF0F8\",\"ticks\":\"\"},\"radialaxis\":{\"gridcolor\":\"#EBF0F8\",\"linecolor\":\"#EBF0F8\",\"ticks\":\"\"}},\"ternary\":{\"bgcolor\":\"white\",\"aaxis\":{\"gridcolor\":\"#DFE8F3\",\"linecolor\":\"#A2B1C6\",\"ticks\":\"\"},\"baxis\":{\"gridcolor\":\"#DFE8F3\",\"linecolor\":\"#A2B1C6\",\"ticks\":\"\"},\"caxis\":{\"gridcolor\":\"#DFE8F3\",\"linecolor\":\"#A2B1C6\",\"ticks\":\"\"}},\"coloraxis\":{\"colorbar\":{\"outlinewidth\":0,\"ticks\":\"\"}},\"colorscale\":{\"sequential\":[[0.0,\"#0d0887\"],[0.1111111111111111,\"#46039f\"],[0.2222222222222222,\"#7201a8\"],[0.3333333333333333,\"#9c179e\"],[0.4444444444444444,\"#bd3786\"],[0.5555555555555556,\"#d8576b\"],[0.6666666666666666,\"#ed7953\"],[0.7777777777777778,\"#fb9f3a\"],[0.8888888888888888,\"#fdca26\"],[1.0,\"#f0f921\"]],\"sequentialminus\":[[0.0,\"#0d0887\"],[0.1111111111111111,\"#46039f\"],[0.2222222222222222,\"#7201a8\"],[0.3333333333333333,\"#9c179e\"],[0.4444444444444444,\"#bd3786\"],[0.5555555555555556,\"#d8576b\"],[0.6666666666666666,\"#ed7953\"],[0.7777777777777778,\"#fb9f3a\"],[0.8888888888888888,\"#fdca26\"],[1.0,\"#f0f921\"]],\"diverging\":[[0,\"#8e0152\"],[0.1,\"#c51b7d\"],[0.2,\"#de77ae\"],[0.3,\"#f1b6da\"],[0.4,\"#fde0ef\"],[0.5,\"#f7f7f7\"],[0.6,\"#e6f5d0\"],[0.7,\"#b8e186\"],[0.8,\"#7fbc41\"],[0.9,\"#4d9221\"],[1,\"#276419\"]]},\"xaxis\":{\"gridcolor\":\"#EBF0F8\",\"linecolor\":\"#EBF0F8\",\"ticks\":\"\",\"title\":{\"standoff\":15},\"zerolinecolor\":\"#EBF0F8\",\"automargin\":true,\"zerolinewidth\":2},\"yaxis\":{\"gridcolor\":\"#EBF0F8\",\"linecolor\":\"#EBF0F8\",\"ticks\":\"\",\"title\":{\"standoff\":15},\"zerolinecolor\":\"#EBF0F8\",\"automargin\":true,\"zerolinewidth\":2},\"scene\":{\"xaxis\":{\"backgroundcolor\":\"white\",\"gridcolor\":\"#DFE8F3\",\"linecolor\":\"#EBF0F8\",\"showbackground\":true,\"ticks\":\"\",\"zerolinecolor\":\"#EBF0F8\",\"gridwidth\":2},\"yaxis\":{\"backgroundcolor\":\"white\",\"gridcolor\":\"#DFE8F3\",\"linecolor\":\"#EBF0F8\",\"showbackground\":true,\"ticks\":\"\",\"zerolinecolor\":\"#EBF0F8\",\"gridwidth\":2},\"zaxis\":{\"backgroundcolor\":\"white\",\"gridcolor\":\"#DFE8F3\",\"linecolor\":\"#EBF0F8\",\"showbackground\":true,\"ticks\":\"\",\"zerolinecolor\":\"#EBF0F8\",\"gridwidth\":2}},\"shapedefaults\":{\"line\":{\"color\":\"#2a3f5f\"}},\"annotationdefaults\":{\"arrowcolor\":\"#2a3f5f\",\"arrowhead\":0,\"arrowwidth\":1},\"geo\":{\"bgcolor\":\"white\",\"landcolor\":\"white\",\"subunitcolor\":\"#C8D4E3\",\"showland\":true,\"showlakes\":true,\"lakecolor\":\"white\"},\"title\":{\"x\":0.05},\"mapbox\":{\"style\":\"light\"}}},\"xaxis\":{\"anchor\":\"y\",\"domain\":[0.0,1.0],\"title\":{\"text\":\"Participant ID\"},\"showline\":true},\"yaxis\":{\"anchor\":\"x\",\"domain\":[0.0,1.0],\"title\":{\"text\":\"Percentage (%) of Duplicates\"},\"showline\":true},\"legend\":{\"tracegroupgap\":0},\"margin\":{\"t\":60},\"barmode\":\"relative\",\"font\":{\"family\":\"IBM Plex San\",\"size\":20,\"color\":\"black\"},\"title\":{\"text\":\"Percentage of Duplicate Data for Each Participant\"}},                        {\"responsive\": true}                    ).then(function(){\n",
       "                            \n",
       "var gd = document.getElementById('8704f3e7-c29a-4eb9-adb8-7cf7a0ebc5e0');\n",
       "var x = new MutationObserver(function (mutations, observer) {{\n",
       "        var display = window.getComputedStyle(gd).display;\n",
       "        if (!display || display === 'none') {{\n",
       "            console.log([gd, 'removed!']);\n",
       "            Plotly.purge(gd);\n",
       "            observer.disconnect();\n",
       "        }}\n",
       "}});\n",
       "\n",
       "// Listen for the removal of the full notebook cells\n",
       "var notebookContainer = gd.closest('#notebook-container');\n",
       "if (notebookContainer) {{\n",
       "    x.observe(notebookContainer, {childList: true});\n",
       "}}\n",
       "\n",
       "// Listen for the clearing of the current output cell\n",
       "var outputEl = gd.closest('.output');\n",
       "if (outputEl) {{\n",
       "    x.observe(outputEl, {childList: true});\n",
       "}}\n",
       "\n",
       "                        })                };                });            </script>        </div>"
      ]
     },
     "metadata": {},
     "output_type": "display_data"
    }
   ],
   "source": [
    "import plotly.io as pio\n",
    "\n",
    "pio.templates.default = \"plotly_white\"\n",
    "fig2=px.bar(df_duplicate_pid_sorted,\n",
    "            x=df_duplicate_pid_str.tolist(),\n",
    "            y=df_duplicate_pid_sorted[\"percentage_duplicates\"])\n",
    "fig2.update_yaxes(showline=True,title_text=\"Percentage (%) of Duplicates\", row=1, col=1)\n",
    "fig2.update_xaxes(showline=True,title_text=\"Participant ID\",row=1, col=1) #  tickangle=35,tickvals=df.index,showticklabels=True\n",
    "fig2.update_traces(marker_color='rgb(24, 128, 139)', marker_line_color='rgb(8,48,107)')\n",
    "fig2.update_layout(font=dict(\n",
    "        family=\"IBM Plex San\",\n",
    "        size=20,\n",
    "        color=\"black\"\n",
    "    ),\n",
    "                title={\n",
    "                    'text': \"Percentage of Duplicate Data for Each Participant\",\n",
    "#                     'y':0.9,\n",
    "#                     'x':0.5,\n",
    "#                     'xanchor': 'center',\n",
    "#                     'yanchor': 'top'\n",
    "                }\n",
    "    )\n",
    "\n",
    "fig2.show()\n"
   ]
  },
  {
   "cell_type": "markdown",
   "metadata": {},
   "source": [
    "# Timing experiments"
   ]
  },
  {
   "cell_type": "code",
   "execution_count": null,
   "metadata": {},
   "outputs": [],
   "source": [
    "#############################################################################################\n",
    "# Processing Steps - (1) HR Max, (2) HR Min, (3) HR Average, (4) HRV\n",
    "#############################################################################################"
   ]
  },
  {
   "cell_type": "code",
   "execution_count": null,
   "metadata": {},
   "outputs": [],
   "source": []
  },
  {
   "cell_type": "code",
   "execution_count": null,
   "metadata": {},
   "outputs": [],
   "source": []
  }
 ],
 "metadata": {
  "kernelspec": {
   "display_name": "Python 3",
   "language": "python",
   "name": "python3"
  },
  "language_info": {
   "codemirror_mode": {
    "name": "ipython",
    "version": 3
   },
   "file_extension": ".py",
   "mimetype": "text/x-python",
   "name": "python",
   "nbconvert_exporter": "python",
   "pygments_lexer": "ipython3",
   "version": "3.7.9"
  }
 },
 "nbformat": 4,
 "nbformat_minor": 2
}
